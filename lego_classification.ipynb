{
 "cells": [
  {
   "cell_type": "markdown",
   "metadata": {
    "colab_type": "text",
    "id": "Vi76rgQdJDSo"
   },
   "source": [
    "# Overview\n",
    "\n",
    "The aim of this task is to create a convolutional neural net (CNN) which will classify pictures of LEGO bricks based on their shape.  "
   ]
  },
  {
   "cell_type": "markdown",
   "metadata": {
    "colab_type": "text",
    "id": "iPkm4y2wQ63i"
   },
   "source": [
    "# Import of libraries"
   ]
  },
  {
   "cell_type": "code",
   "execution_count": 2,
   "metadata": {
    "colab": {
     "base_uri": "https://localhost:8080/",
     "height": 34
    },
    "colab_type": "code",
    "collapsed": false,
    "id": "FjAJ3FzrQ-TG",
    "outputId": "bbc06c2d-3d66-4849-96c5-38c2c9b1a741"
   },
   "outputs": [
    {
     "name": "stderr",
     "output_type": "stream",
     "text": [
      "Using TensorFlow backend.\n"
     ]
    }
   ],
   "source": [
    "import numpy as np\n",
    "import pandas as pd\n",
    "from keras.utils import np_utils\n",
    "from keras import Sequential\n",
    "from keras.layers import Dense, Flatten, Dropout, BatchNormalization\n",
    "from keras.callbacks import EarlyStopping, ModelCheckpoint\n",
    "from keras.layers.convolutional import Conv2D, MaxPooling2D\n",
    "from keras.preprocessing.image import ImageDataGenerator\n",
    "import PIL.Image as Image\n",
    "import os\n",
    "import matplotlib.pyplot as plt\n",
    "import joblib\n",
    "import random\n",
    "import warnings\n",
    "warnings.filterwarnings(\"always\")\n",
    "from keras.applications import Xception\n",
    "from keras import backend as K\n",
    "from scipy.misc import imsave"
   ]
  },
  {
   "cell_type": "markdown",
   "metadata": {
    "colab_type": "text",
    "id": "vmI0V4sYRoSu"
   },
   "source": [
    "# Data preprocessing"
   ]
  },
  {
   "cell_type": "code",
   "execution_count": 0,
   "metadata": {
    "colab": {},
    "colab_type": "code",
    "collapsed": true,
    "id": "SErf-cYUtQnf"
   },
   "outputs": [],
   "source": [
    "# setting paths to train, validation and test directories \n",
    "train_data_dir = \"data/LEGO brick images/train/\"\n",
    "validation_data_dir = \"data/LEGO brick images/valid/\"\n",
    "test_data_dir = \"data/LEGO brick images/pred/\""
   ]
  },
  {
   "cell_type": "markdown",
   "metadata": {
    "colab_type": "text",
    "id": "O_2ozgKvO7xA"
   },
   "source": [
    "#### Renaming subdirectories"
   ]
  },
  {
   "cell_type": "markdown",
   "metadata": {
    "colab_type": "text",
    "id": "faeC5AugxgPA"
   },
   "source": [
    "I need to clean names of subdirectories in train directory as they will be treated as names of classes and they contain reduntant numbers in the beginning."
   ]
  },
  {
   "cell_type": "code",
   "execution_count": 0,
   "metadata": {
    "colab": {},
    "colab_type": "code",
    "collapsed": true,
    "id": "R_vMFdEcj-l_"
   },
   "outputs": [],
   "source": [
    "def rename_subdirs(root_dir_path):\n",
    "    '''Function cleaning names of subdirectories.'''\n",
    "    for dir_path, dir_names, file_names in os.walk(root_dir_path):\n",
    "        for dir_name in dir_names:\n",
    "            os.rename(os.path.join(root_dir_path, dir_name), os.path.join(root_dir_path, dir_name[5:]))"
   ]
  },
  {
   "cell_type": "code",
   "execution_count": 0,
   "metadata": {
    "colab": {},
    "colab_type": "code",
    "collapsed": true,
    "id": "vEf6p00rtwP7"
   },
   "outputs": [],
   "source": [
    "#rename_subdirs(train_data_dir)"
   ]
  },
  {
   "cell_type": "code",
   "execution_count": 0,
   "metadata": {
    "colab": {
     "base_uri": "https://localhost:8080/",
     "height": 71
    },
    "colab_type": "code",
    "collapsed": false,
    "id": "QdX5KVLfyKlu",
    "outputId": "34295a2c-ed07-4038-a061-fe0a85b508e2"
   },
   "outputs": [
    {
     "name": "stdout",
     "output_type": "stream",
     "text": [
      "There are 16 classes.\n",
      " ['Plate 2x2', 'Brick 2x2', ' Cross Axle 2M with Snap friction', 'Plate 1X2 with 1 Knob', 'Plate 1x1', ' Bush 3M friction with Cross axle', 'Peg 2M', 'Technic Lever 3M', 'Plate 1x2', 'Bush for Cross Axle', 'Brick 1x1', 'Flat Tile 1x2', 'Brick corner 1x2x2', 'Brick 1x2', ' half Bush', 'Roof Tile 1x2x45deg']\n"
     ]
    }
   ],
   "source": [
    "classes = os.listdir(train_data_dir)\n",
    "print(f\"There are {len(classes)} classes.\\n {classes}\")"
   ]
  },
  {
   "cell_type": "markdown",
   "metadata": {
    "colab_type": "text",
    "id": "3hkpwOBJO_Zf"
   },
   "source": [
    "#### Moving files to validation set"
   ]
  },
  {
   "cell_type": "markdown",
   "metadata": {
    "colab_type": "text",
    "id": "fnKTQKG6zIdl"
   },
   "source": [
    "I need to create validation set and arrange it in the same directory and subdirectories structure as train set. This structure will be necessary later when using ImageDataGenerator and its method \"flow_from_directory\". I will allocate 30% of images from train set to validation set. I will sample random 120 files from every class subdirectory and move them to validation subdirectory."
   ]
  },
  {
   "cell_type": "code",
   "execution_count": 0,
   "metadata": {
    "colab": {},
    "colab_type": "code",
    "collapsed": true,
    "id": "j_o69XYPyRl3"
   },
   "outputs": [],
   "source": [
    "def create_dir_same_structure(inputpath, outputpath):\n",
    "    '''Function creating directory with the same structure as another directory.'''\n",
    "    for dir_path, dir_names, file_names in os.walk(inputpath):\n",
    "        structure = os.path.join(outputpath, dir_path[len(inputpath):])\n",
    "        os.mkdir(structure)"
   ]
  },
  {
   "cell_type": "code",
   "execution_count": 0,
   "metadata": {
    "colab": {},
    "colab_type": "code",
    "collapsed": true,
    "id": "6n1BHJEa1kjf"
   },
   "outputs": [],
   "source": [
    "# creating validation directory with the same structure as in train dir\n",
    "create_dir_same_structure(train_data_dir, validation_data_dir)"
   ]
  },
  {
   "cell_type": "code",
   "execution_count": 0,
   "metadata": {
    "colab": {},
    "colab_type": "code",
    "collapsed": true,
    "id": "hqvqmlzeZAkM"
   },
   "outputs": [],
   "source": [
    "# creating test directory with the same structure as in train dir\n",
    "create_dir_same_structure(train_data_dir, test_data_dir)"
   ]
  },
  {
   "cell_type": "code",
   "execution_count": 0,
   "metadata": {
    "colab": {},
    "colab_type": "code",
    "collapsed": true,
    "id": "sxwbTyvOEhyv"
   },
   "outputs": [],
   "source": [
    "def move_random_files(source_path, destination_path):\n",
    "    '''Function moving randomly sampled files to another directory.'''\n",
    "    subdirs = os.listdir(source_path)\n",
    "    for subdir in subdirs:\n",
    "        files = os.listdir(os.path.join(source_path, subdir))\n",
    "        random_files = random.sample(files, 120)\n",
    "        for random_file in random_files:\n",
    "            os.rename(os.path.join(source_path, subdir, random_file), os.path.join(destination_path, subdir, random_file))"
   ]
  },
  {
   "cell_type": "code",
   "execution_count": 0,
   "metadata": {
    "colab": {},
    "colab_type": "code",
    "collapsed": true,
    "id": "aBsn0Lz9Og6A"
   },
   "outputs": [],
   "source": [
    "# moving 120 random files from subdirs in train directory to subdirs in validation directory\n",
    "move_random_files(train_data_dir, validation_data_dir)"
   ]
  },
  {
   "cell_type": "markdown",
   "metadata": {
    "colab_type": "text",
    "id": "CA0pNxNsPFbn"
   },
   "source": [
    "#### Images preprocessing"
   ]
  },
  {
   "cell_type": "markdown",
   "metadata": {
    "colab_type": "text",
    "id": "UhZqht7OX-6F"
   },
   "source": [
    "Pictures preprocessing for this task will consist of the following steps:\n",
    "\n",
    "1. Ensuring uniform aspect ratio (pictures has to be squares).\n",
    "\n",
    "2. Image Scaling: using predefined width and height.\n",
    "\n",
    "3. Normalizing image inputs.\n",
    "\n",
    "4. Data augmentation to prevent overfitting and ensure the model generalizes well.\n"
   ]
  },
  {
   "cell_type": "code",
   "execution_count": 9,
   "metadata": {
    "colab": {
     "base_uri": "https://localhost:8080/",
     "height": 34
    },
    "colab_type": "code",
    "collapsed": false,
    "id": "ZfvIhb7uIlr6",
    "outputId": "6ce417c3-3629-4d76-e71e-f344eb52883b"
   },
   "outputs": [
    {
     "name": "stdout",
     "output_type": "stream",
     "text": [
      "Size of the picture: (200, 200, 4)\n"
     ]
    }
   ],
   "source": [
    "# checking size of a picture\n",
    "img = Image.open(\"data/train/Brick corner 1x2x2/201706171206-0001.png\")\n",
    "img_array = np.array(img)\n",
    "print(f\"Size of the picture: {img_array.shape}\")"
   ]
  },
  {
   "cell_type": "code",
   "execution_count": 0,
   "metadata": {
    "colab": {
     "base_uri": "https://localhost:8080/",
     "height": 269
    },
    "colab_type": "code",
    "collapsed": false,
    "id": "QTEKf1GIoTAe",
    "outputId": "f5acc3d9-265f-431f-8e86-c641c017f84e"
   },
   "outputs": [
    {
     "data": {
      "image/png": "[encoded data removed]",
      "text/plain": [
       "<Figure size 432x288 with 1 Axes>"
      ]
     },
     "metadata": {
      "tags": []
     },
     "output_type": "display_data"
    }
   ],
   "source": [
    "# printing image\n",
    "plt.imshow(img)\n",
    "plt.show()"
   ]
  },
  {
   "cell_type": "markdown",
   "metadata": {
    "colab_type": "text",
    "id": "Wd5-VvL_Rnde"
   },
   "source": [
    "Our pictures have 4 channels, which means that they are actually RGBa (alpha channel for opaqueness)."
   ]
  },
  {
   "cell_type": "markdown",
   "metadata": {
    "colab_type": "text",
    "id": "TH9lUwZgxScA"
   },
   "source": [
    "### Data augmentation and normalization"
   ]
  },
  {
   "cell_type": "markdown",
   "metadata": {
    "colab_type": "text",
    "id": "pXq0xt6Phay2"
   },
   "source": [
    "For data loading and augmentation I will use ImageDataGenerator, which generates batches of augmented images on the fly. Transformations are chosen randomly from the listed parameters and applied to images. It helps prevent overfitting as the model will learn on different images and so will generalize better.  ImageDataGenerator class' method \"flow_from_directory\" is very useful when the images are saved in directories named after classes.\n",
    "\n",
    "I will use the following transformations:\n",
    "\n",
    "* zoom: it will be very useful to make the model robust to seeing bricks of different sizes in the test set\n",
    "* rescale: pixels differ in intensity of gray on the scale 0-255, we normalize it into 0-1\n",
    "* brigthness: darkening (when <1) or lightening (when >1) the image\n",
    "\n",
    "\n",
    "In this case, I won't need such popular augmentations as rotation and horizontal/vertical flip as there are plenty of pictures of rotated bricks. "
   ]
  },
  {
   "cell_type": "code",
   "execution_count": 10,
   "metadata": {
    "colab": {
     "base_uri": "https://localhost:8080/",
     "height": 119
    },
    "colab_type": "code",
    "collapsed": false,
    "id": "ycp8K6nOpm-6",
    "outputId": "5e245ea4-98b3-420f-eb89-2889005fc7f8"
   },
   "outputs": [
    {
     "name": "stderr",
     "output_type": "stream",
     "text": [
      "/usr/local/lib/python3.6/dist-packages/keras/preprocessing/image.py:440: DeprecationWarning: inspect.getargspec() is deprecated, use inspect.signature() or inspect.getfullargspec()\n",
      "  image.ImageDataGenerator.__init__).args:\n",
      "/usr/local/lib/python3.6/dist-packages/keras/preprocessing/image.py:440: DeprecationWarning: inspect.getargspec() is deprecated, use inspect.signature() or inspect.getfullargspec()\n",
      "  image.ImageDataGenerator.__init__).args:\n",
      "/usr/local/lib/python3.6/dist-packages/keras/preprocessing/image.py:440: DeprecationWarning: inspect.getargspec() is deprecated, use inspect.signature() or inspect.getfullargspec()\n",
      "  image.ImageDataGenerator.__init__).args:\n"
     ]
    }
   ],
   "source": [
    "# Constructing and configuring 3 instances of the ImageDataGenerator class for train, validation and test sets\n",
    "\n",
    "# data augmentation configuration for train images\n",
    "train_generator = ImageDataGenerator(rescale=1./255,\n",
    "                                     zoom_range=0.2,\n",
    "                                     brightness_range=[0.5,1.5])\n",
    "\n",
    "# validation and test data will be only rescaled\n",
    "validation_generator = ImageDataGenerator(rescale=1./255)\n",
    "test_generator = ImageDataGenerator(rescale=1./255)"
   ]
  },
  {
   "cell_type": "code",
   "execution_count": 0,
   "metadata": {
    "colab": {
     "base_uri": "https://localhost:8080/",
     "height": 595
    },
    "colab_type": "code",
    "collapsed": false,
    "id": "rSDXoU4POcFz",
    "outputId": "f40c8809-4def-4d16-81c1-13094b00e48f"
   },
   "outputs": [
    {
     "data": {
      "image/png": "[encoded data removed]",
      "text/plain": [
       "<Figure size 720x720 with 9 Axes>"
      ]
     },
     "metadata": {
      "tags": []
     },
     "output_type": "display_data"
    }
   ],
   "source": [
    "# visualising augementations on the previously loaded image\n",
    "\n",
    "i=0\n",
    "plt.figure(figsize=(10,10))\n",
    "# I have to expand dimension of the image as it has to be rank 4\n",
    "# my data format is (samples, height, width, channels) so the new axis has to be placed first\n",
    "img = np.expand_dims(img, 0)\n",
    "for img_batch in train_generator.flow(img, batch_size=9, shuffle=False):\n",
    "    for img in img_batch:\n",
    "        plt.subplot(330 + 1 + i)\n",
    "        plt.imshow(img)\n",
    "        i=i+1    \n",
    "    if i >= 9:\n",
    "        break\n",
    "plt.show()"
   ]
  },
  {
   "cell_type": "code",
   "execution_count": 13,
   "metadata": {
    "colab": {
     "base_uri": "https://localhost:8080/",
     "height": 85
    },
    "colab_type": "code",
    "collapsed": false,
    "id": "2I29BgEVqk-W",
    "outputId": "6630f3c2-9040-4900-bf48-fed400c83b3d"
   },
   "outputs": [
    {
     "name": "stdout",
     "output_type": "stream",
     "text": [
      "Found 4459 images belonging to 16 classes.\n",
      "Found 1920 images belonging to 16 classes.\n",
      "Found 1920 images belonging to 16 classes.\n",
      "Found 16 images belonging to 16 classes.\n"
     ]
    }
   ],
   "source": [
    "# invoking flow_from_directory method to generate batches of augmented images \n",
    "\n",
    "batch_size=16\n",
    "h, w = 200, 200\n",
    "\n",
    "train_flow = train_generator.flow_from_directory(\n",
    "    directory=train_data_dir, \n",
    "    target_size=(h,w), color_mode=\"rgba\", class_mode=\"categorical\", shuffle=True, batch_size=batch_size)\n",
    "\n",
    "# I need two instances of validation flow: for fit_generator yielding images in batches \n",
    "# and for evaluation yielding images one by one (treated as test set)\n",
    "\n",
    "validation_flow_fit = validation_generator.flow_from_directory(\n",
    "    directory=validation_data_dir, \n",
    "    target_size=(h,w), color_mode=\"rgba\", class_mode=\"categorical\", shuffle=True, batch_size=batch_size)\n",
    "\n",
    "validation_flow_eval = validation_generator.flow_from_directory(\n",
    "    directory=validation_data_dir, \n",
    "    target_size=(h,w), color_mode=\"rgba\", class_mode=\"categorical\", batch_size=1)\n",
    "\n",
    "test_flow = test_generator.flow_from_directory(\n",
    "    directory=test_data_dir, \n",
    "    target_size=(h,w), color_mode=\"rgba\", class_mode=\"categorical\", batch_size=1)"
   ]
  },
  {
   "cell_type": "markdown",
   "metadata": {
    "colab_type": "text",
    "id": "UFnxJiDorTJj"
   },
   "source": [
    "# Building CNNs"
   ]
  },
  {
   "cell_type": "code",
   "execution_count": 0,
   "metadata": {
    "colab": {},
    "colab_type": "code",
    "collapsed": true,
    "id": "1oqNWu5TbfM5"
   },
   "outputs": [],
   "source": [
    "# setting variables with number of files in train and validation directories \n",
    "nb_train_samples = sum([len(files) for r, d, files in os.walk(train_data_dir)])\n",
    "nb_validation_samples = sum([len(files) for r, d, files in os.walk(validation_data_dir)])\n",
    "nb_test_samples = sum([len(files) for r, d, files in os.walk(test_data_dir)])"
   ]
  },
  {
   "cell_type": "code",
   "execution_count": 0,
   "metadata": {
    "colab": {},
    "colab_type": "code",
    "collapsed": true,
    "id": "egyelvD4gBBW"
   },
   "outputs": [],
   "source": [
    "def build_model(list_of_layers):\n",
    "  \n",
    "    model = Sequential() \n",
    "  \n",
    "    for layer in list_of_layers:\n",
    "        model.add(layer)\n",
    "    \n",
    "    model.summary() \n",
    "  \n",
    "    model.compile(loss=\"categorical_crossentropy\",\n",
    "               optimizer=\"adam\", \n",
    "               metrics=[\"categorical_accuracy\"])\n",
    "    return model"
   ]
  },
  {
   "cell_type": "code",
   "execution_count": 0,
   "metadata": {
    "colab": {},
    "colab_type": "code",
    "collapsed": true,
    "id": "vA0HlVoVrCXp"
   },
   "outputs": [],
   "source": [
    "def evaluate_model(model, filename):\n",
    "    \n",
    "    early_stopping = EarlyStopping(patience=5, monitor=\"val_loss\")\n",
    "    take_best_model = ModelCheckpoint(str(filename)+\".h5py\", save_best_only=True)\n",
    "    \n",
    "    batch_size=16\n",
    "    history = model.fit_generator(generator=train_flow, \n",
    "                       steps_per_epoch=nb_train_samples//batch_size, \n",
    "                       validation_data=validation_flow_fit,\n",
    "                       validation_steps=nb_validation_samples//batch_size,\n",
    "                       epochs=50,\n",
    "                       callbacks=[take_best_model, early_stopping])\n",
    "    \n",
    "    joblib.dump(history, filename)\n",
    "    \n",
    "    model.load_weights(str(filename)+\".h5py\")\n",
    "    \n",
    "    return model.evaluate_generator(generator=validation_flow_eval,\n",
    "                                   steps=nb_validation_samples)[1]"
   ]
  },
  {
   "cell_type": "markdown",
   "metadata": {
    "colab_type": "text",
    "id": "V2i7ugvQvlwN"
   },
   "source": [
    "I will try several architectures of convolutional neural networks. They will differ in the number of convolutional and dense layers, number of filters and their size and number of neurons in Dense layers. Architectures will be inspired by some famous nets like LeNet, AlexNet, VGG. Some characteristics:\n",
    "\n",
    "* ** regularization**: In some architectures I will use batch normalization in convolutional part of the network and Dropout before in the fully connected part. Apart from regularization, batch normalization should also make models resistant to vanishing gradient problem. \n",
    "* **padding**: I will use padding as zoomed images (during augmentation) may be close to the border.\n",
    "* **filters' size**: as shape recognition in this case doesn't rely on the details I won't use 3x3 filters (mostly 5x5) "
   ]
  },
  {
   "cell_type": "code",
   "execution_count": 0,
   "metadata": {
    "colab": {},
    "colab_type": "code",
    "collapsed": true,
    "id": "E0d9KLxEgYAw"
   },
   "outputs": [],
   "source": [
    "models = {        \n",
    "            \"lenet_like\":          [Conv2D(6,(5,5),activation=\"relu\",padding=\"same\", input_shape=img_array.shape),\n",
    "                                   MaxPooling2D((2,2)),\n",
    "                                   Conv2D(16,(5,5),activation=\"relu\",padding=\"same\"),\n",
    "                                   MaxPooling2D((2,2)),\n",
    "                                   Conv2D(32,(5,5),activation=\"relu\",padding=\"same\"),\n",
    "                                   MaxPooling2D((2,2)),\n",
    "                                   Flatten(),\n",
    "                                   Dense(84,activation=\"relu\"),\n",
    "                                   Dense(16,activation=\"softmax\")],\n",
    "    \n",
    "            \"alexnet_like\":        [Conv2D(16,(11,11),activation=\"relu\",padding=\"same\", input_shape=img_array.shape),\n",
    "                                   MaxPooling2D((3,3)),\n",
    "                                   BatchNormalization(),\n",
    "                                   Conv2D(32,(5,5),activation=\"relu\",padding=\"same\"),\n",
    "                                   MaxPooling2D((3,3)),\n",
    "                                   BatchNormalization(),\n",
    "                                   Conv2D(64,(5,5),activation=\"relu\",padding=\"same\"),\n",
    "                                   MaxPooling2D((2,2)),\n",
    "                                   Flatten(),\n",
    "                                   Dropout(0.5),\n",
    "                                   Dense(84,activation=\"relu\"),\n",
    "                                   Dense(16,activation=\"softmax\")],\n",
    "    \n",
    "            \"vgg_like\":            [Conv2D(16,(5,5),activation=\"relu\",padding=\"same\",input_shape=img_array.shape),\n",
    "                                   Conv2D(16,(5,5),activation=\"relu\",padding=\"same\"),\n",
    "                                   MaxPooling2D((2,2)),\n",
    "                                   Conv2D(32,(5,5),activation=\"relu\",padding=\"same\"),\n",
    "                                   Conv2D(32,(5,5),activation=\"relu\",padding=\"same\"),\n",
    "                                   MaxPooling2D((2,2)),\n",
    "                                   Flatten(),\n",
    "                                   Dense(64,activation=\"relu\"),\n",
    "                                   Dense(64, activation=\"relu\"),\n",
    "                                   Dense(16,activation=\"softmax\")]   \n",
    "}"
   ]
  },
  {
   "cell_type": "code",
   "execution_count": 0,
   "metadata": {
    "colab": {
     "base_uri": "https://localhost:8080/",
     "height": 2550
    },
    "colab_type": "code",
    "collapsed": false,
    "id": "kYHIS9Ofu7AI",
    "outputId": "49fe0c6c-2809-4181-d14f-59e746506e9b"
   },
   "outputs": [
    {
     "name": "stdout",
     "output_type": "stream",
     "text": [
      "_________________________________________________________________\n",
      "Layer (type)                 Output Shape              Param #   \n",
      "=================================================================\n",
      "conv2d_49 (Conv2D)           (None, 200, 200, 6)       606       \n",
      "_________________________________________________________________\n",
      "max_pooling2d_42 (MaxPooling (None, 100, 100, 6)       0         \n",
      "_________________________________________________________________\n",
      "conv2d_50 (Conv2D)           (None, 100, 100, 16)      2416      \n",
      "_________________________________________________________________\n",
      "max_pooling2d_43 (MaxPooling (None, 50, 50, 16)        0         \n",
      "_________________________________________________________________\n",
      "conv2d_51 (Conv2D)           (None, 50, 50, 32)        12832     \n",
      "_________________________________________________________________\n",
      "max_pooling2d_44 (MaxPooling (None, 25, 25, 32)        0         \n",
      "_________________________________________________________________\n",
      "flatten_17 (Flatten)         (None, 20000)             0         \n",
      "_________________________________________________________________\n",
      "dense_38 (Dense)             (None, 84)                1680084   \n",
      "_________________________________________________________________\n",
      "dense_39 (Dense)             (None, 16)                1360      \n",
      "=================================================================\n",
      "Total params: 1,697,298\n",
      "Trainable params: 1,697,298\n",
      "Non-trainable params: 0\n",
      "_________________________________________________________________\n",
      "Epoch 1/50\n",
      "278/278 [==============================] - 70s 252ms/step - loss: 0.1055 - categorical_accuracy: 0.9603 - val_loss: 0.2547 - val_categorical_accuracy: 0.9193\n",
      "Epoch 2/50\n",
      "278/278 [==============================] - 65s 234ms/step - loss: 0.0940 - categorical_accuracy: 0.9622 - val_loss: 0.2679 - val_categorical_accuracy: 0.9161\n",
      "Epoch 3/50\n",
      "278/278 [==============================] - 66s 239ms/step - loss: 0.0885 - categorical_accuracy: 0.9662 - val_loss: 0.3986 - val_categorical_accuracy: 0.8792\n",
      "Epoch 4/50\n",
      "278/278 [==============================] - 68s 246ms/step - loss: 0.0847 - categorical_accuracy: 0.9692 - val_loss: 0.4316 - val_categorical_accuracy: 0.8922\n",
      "Epoch 5/50\n",
      "278/278 [==============================] - 66s 238ms/step - loss: 0.1034 - categorical_accuracy: 0.9606 - val_loss: 0.2300 - val_categorical_accuracy: 0.9203\n",
      "Epoch 6/50\n",
      "278/278 [==============================] - 66s 236ms/step - loss: 0.0947 - categorical_accuracy: 0.9687 - val_loss: 0.2697 - val_categorical_accuracy: 0.9109\n",
      "Epoch 7/50\n",
      "278/278 [==============================] - 65s 234ms/step - loss: 0.0796 - categorical_accuracy: 0.9717 - val_loss: 0.2438 - val_categorical_accuracy: 0.9208\n",
      "Epoch 8/50\n",
      "278/278 [==============================] - 64s 230ms/step - loss: 0.0628 - categorical_accuracy: 0.9771 - val_loss: 0.2926 - val_categorical_accuracy: 0.9156\n",
      "Epoch 9/50\n",
      "278/278 [==============================] - 68s 244ms/step - loss: 0.0721 - categorical_accuracy: 0.9748 - val_loss: 0.4017 - val_categorical_accuracy: 0.8979\n",
      "Epoch 10/50\n",
      "278/278 [==============================] - 65s 235ms/step - loss: 0.0607 - categorical_accuracy: 0.9777 - val_loss: 0.3350 - val_categorical_accuracy: 0.9125\n",
      "_________________________________________________________________\n",
      "Layer (type)                 Output Shape              Param #   \n",
      "=================================================================\n",
      "conv2d_52 (Conv2D)           (None, 200, 200, 16)      7760      \n",
      "_________________________________________________________________\n",
      "max_pooling2d_45 (MaxPooling (None, 66, 66, 16)        0         \n",
      "_________________________________________________________________\n",
      "batch_normalization_7 (Batch (None, 66, 66, 16)        64        \n",
      "_________________________________________________________________\n",
      "conv2d_53 (Conv2D)           (None, 66, 66, 32)        12832     \n",
      "_________________________________________________________________\n",
      "max_pooling2d_46 (MaxPooling (None, 22, 22, 32)        0         \n",
      "_________________________________________________________________\n",
      "batch_normalization_8 (Batch (None, 22, 22, 32)        128       \n",
      "_________________________________________________________________\n",
      "conv2d_54 (Conv2D)           (None, 22, 22, 64)        51264     \n",
      "_________________________________________________________________\n",
      "max_pooling2d_47 (MaxPooling (None, 11, 11, 64)        0         \n",
      "_________________________________________________________________\n",
      "flatten_18 (Flatten)         (None, 7744)              0         \n",
      "_________________________________________________________________\n",
      "dropout_10 (Dropout)         (None, 7744)              0         \n",
      "_________________________________________________________________\n",
      "dense_40 (Dense)             (None, 84)                650580    \n",
      "_________________________________________________________________\n",
      "dense_41 (Dense)             (None, 16)                1360      \n",
      "=================================================================\n",
      "Total params: 723,988\n",
      "Trainable params: 723,892\n",
      "Non-trainable params: 96\n",
      "_________________________________________________________________\n",
      "Epoch 1/50\n",
      "278/278 [==============================] - 71s 254ms/step - loss: 0.5042 - categorical_accuracy: 0.8072 - val_loss: 1.2264 - val_categorical_accuracy: 0.6510\n",
      "Epoch 2/50\n",
      "278/278 [==============================] - 65s 234ms/step - loss: 0.4672 - categorical_accuracy: 0.8157 - val_loss: 0.6017 - val_categorical_accuracy: 0.7682\n",
      "Epoch 3/50\n",
      "278/278 [==============================] - 68s 245ms/step - loss: 0.4355 - categorical_accuracy: 0.8301 - val_loss: 0.8281 - val_categorical_accuracy: 0.7104\n",
      "Epoch 4/50\n",
      "278/278 [==============================] - 65s 236ms/step - loss: 0.4207 - categorical_accuracy: 0.8326 - val_loss: 0.3545 - val_categorical_accuracy: 0.8630\n",
      "Epoch 5/50\n",
      "278/278 [==============================] - 64s 230ms/step - loss: 0.4069 - categorical_accuracy: 0.8471 - val_loss: 0.8406 - val_categorical_accuracy: 0.7281\n",
      "Epoch 6/50\n",
      "278/278 [==============================] - 65s 235ms/step - loss: 0.3913 - categorical_accuracy: 0.8524 - val_loss: 0.5817 - val_categorical_accuracy: 0.7760\n",
      "Epoch 7/50\n",
      "278/278 [==============================] - 65s 236ms/step - loss: 0.3788 - categorical_accuracy: 0.8522 - val_loss: 0.6040 - val_categorical_accuracy: 0.7786\n",
      "Epoch 8/50\n",
      "278/278 [==============================] - 67s 239ms/step - loss: 0.3731 - categorical_accuracy: 0.8587 - val_loss: 0.3495 - val_categorical_accuracy: 0.8604\n",
      "Epoch 9/50\n",
      "278/278 [==============================] - 66s 236ms/step - loss: 0.3363 - categorical_accuracy: 0.8675 - val_loss: 0.3499 - val_categorical_accuracy: 0.8479\n",
      "Epoch 10/50\n",
      "278/278 [==============================] - 64s 229ms/step - loss: 0.3378 - categorical_accuracy: 0.8656 - val_loss: 0.2823 - val_categorical_accuracy: 0.8818\n",
      "Epoch 11/50\n",
      "278/278 [==============================] - 65s 235ms/step - loss: 0.3239 - categorical_accuracy: 0.8734 - val_loss: 0.4617 - val_categorical_accuracy: 0.8208\n",
      "Epoch 12/50\n",
      "278/278 [==============================] - 66s 238ms/step - loss: 0.3048 - categorical_accuracy: 0.8840 - val_loss: 0.3849 - val_categorical_accuracy: 0.8438\n",
      "Epoch 13/50\n",
      "278/278 [==============================] - 67s 241ms/step - loss: 0.2907 - categorical_accuracy: 0.8867 - val_loss: 0.3817 - val_categorical_accuracy: 0.8469\n",
      "Epoch 14/50\n",
      "278/278 [==============================] - 66s 236ms/step - loss: 0.3071 - categorical_accuracy: 0.8833 - val_loss: 0.3683 - val_categorical_accuracy: 0.8417\n",
      "Epoch 15/50\n",
      "278/278 [==============================] - 65s 233ms/step - loss: 0.2851 - categorical_accuracy: 0.8900 - val_loss: 0.3821 - val_categorical_accuracy: 0.8505\n",
      "_________________________________________________________________\n",
      "Layer (type)                 Output Shape              Param #   \n",
      "=================================================================\n",
      "conv2d_55 (Conv2D)           (None, 200, 200, 16)      1616      \n",
      "_________________________________________________________________\n",
      "conv2d_56 (Conv2D)           (None, 200, 200, 16)      6416      \n",
      "_________________________________________________________________\n",
      "max_pooling2d_48 (MaxPooling (None, 100, 100, 16)      0         \n",
      "_________________________________________________________________\n",
      "conv2d_57 (Conv2D)           (None, 100, 100, 32)      12832     \n",
      "_________________________________________________________________\n",
      "conv2d_58 (Conv2D)           (None, 100, 100, 32)      25632     \n",
      "_________________________________________________________________\n",
      "max_pooling2d_49 (MaxPooling (None, 50, 50, 32)        0         \n",
      "_________________________________________________________________\n",
      "flatten_19 (Flatten)         (None, 80000)             0         \n",
      "_________________________________________________________________\n",
      "dense_42 (Dense)             (None, 64)                5120064   \n",
      "_________________________________________________________________\n",
      "dense_43 (Dense)             (None, 64)                4160      \n",
      "_________________________________________________________________\n",
      "dense_44 (Dense)             (None, 16)                1040      \n",
      "=================================================================\n",
      "Total params: 5,171,760\n",
      "Trainable params: 5,171,760\n",
      "Non-trainable params: 0\n",
      "_________________________________________________________________\n",
      "Epoch 1/50\n",
      "278/278 [==============================] - 74s 267ms/step - loss: 0.2064 - categorical_accuracy: 0.9220 - val_loss: 0.3622 - val_categorical_accuracy: 0.8630\n",
      "Epoch 2/50\n",
      "278/278 [==============================] - 69s 249ms/step - loss: 0.1876 - categorical_accuracy: 0.9285 - val_loss: 0.4198 - val_categorical_accuracy: 0.8531\n",
      "Epoch 3/50\n",
      "278/278 [==============================] - 68s 243ms/step - loss: 0.1884 - categorical_accuracy: 0.9290 - val_loss: 0.2903 - val_categorical_accuracy: 0.8974\n",
      "Epoch 4/50\n",
      "278/278 [==============================] - 68s 246ms/step - loss: 0.1585 - categorical_accuracy: 0.9359 - val_loss: 0.3211 - val_categorical_accuracy: 0.8906\n",
      "Epoch 5/50\n",
      "278/278 [==============================] - 68s 245ms/step - loss: 0.1696 - categorical_accuracy: 0.9331 - val_loss: 0.4245 - val_categorical_accuracy: 0.8542\n",
      "Epoch 6/50\n",
      "278/278 [==============================] - 69s 248ms/step - loss: 0.1503 - categorical_accuracy: 0.9384 - val_loss: 0.3445 - val_categorical_accuracy: 0.8833\n",
      "Epoch 7/50\n",
      "278/278 [==============================] - 70s 251ms/step - loss: 0.1544 - categorical_accuracy: 0.9346 - val_loss: 0.3362 - val_categorical_accuracy: 0.8776\n",
      "Epoch 8/50\n",
      "278/278 [==============================] - 68s 246ms/step - loss: 0.1606 - categorical_accuracy: 0.9364 - val_loss: 0.3631 - val_categorical_accuracy: 0.8750\n"
     ]
    }
   ],
   "source": [
    "lst_acc = []\n",
    "for model, params in models.items():\n",
    "    acc = (evaluate_model(build_model(params), model))\n",
    "    lst_acc.append(acc)"
   ]
  },
  {
   "cell_type": "code",
   "execution_count": 0,
   "metadata": {
    "colab": {},
    "colab_type": "code",
    "collapsed": true,
    "id": "1eemyaUS5Oi7"
   },
   "outputs": [],
   "source": [
    "# printing accuracy of models\n",
    "model_results = pd.DataFrame(list(zip(models.keys(), lst_acc)), columns=[\"model\", \"accuracy\"]).sort_values(by=\"accuracy\", ascending=False).reset_index(drop=True)"
   ]
  },
  {
   "cell_type": "code",
   "execution_count": 0,
   "metadata": {
    "colab": {
     "base_uri": "https://localhost:8080/",
     "height": 142
    },
    "colab_type": "code",
    "collapsed": false,
    "id": "SzHWU2qK5QSJ",
    "outputId": "5df61a76-fed4-4de6-ba06-f69f711451a8"
   },
   "outputs": [
    {
     "data": {
      "text/html": [
       "<div>\n",
       "<style scoped>\n",
       "    .dataframe tbody tr th:only-of-type {\n",
       "        vertical-align: middle;\n",
       "    }\n",
       "\n",
       "    .dataframe tbody tr th {\n",
       "        vertical-align: top;\n",
       "    }\n",
       "\n",
       "    .dataframe thead th {\n",
       "        text-align: right;\n",
       "    }\n",
       "</style>\n",
       "<table border=\"1\" class=\"dataframe\">\n",
       "  <thead>\n",
       "    <tr style=\"text-align: right;\">\n",
       "      <th></th>\n",
       "      <th>model</th>\n",
       "      <th>accuracy</th>\n",
       "    </tr>\n",
       "  </thead>\n",
       "  <tbody>\n",
       "    <tr>\n",
       "      <th>0</th>\n",
       "      <td>lenet_like</td>\n",
       "      <td>0.916146</td>\n",
       "    </tr>\n",
       "    <tr>\n",
       "      <th>1</th>\n",
       "      <td>vgg_like</td>\n",
       "      <td>0.888021</td>\n",
       "    </tr>\n",
       "    <tr>\n",
       "      <th>2</th>\n",
       "      <td>alexnet_like</td>\n",
       "      <td>0.878125</td>\n",
       "    </tr>\n",
       "  </tbody>\n",
       "</table>\n",
       "</div>"
      ],
      "text/plain": [
       "          model  accuracy\n",
       "0    lenet_like  0.916146\n",
       "1      vgg_like  0.888021\n",
       "2  alexnet_like  0.878125"
      ]
     },
     "execution_count": 150,
     "metadata": {
      "tags": []
     },
     "output_type": "execute_result"
    }
   ],
   "source": [
    "model_results"
   ]
  },
  {
   "cell_type": "code",
   "execution_count": 0,
   "metadata": {
    "colab": {},
    "colab_type": "code",
    "collapsed": true,
    "id": "8VcCsIMWNPqr"
   },
   "outputs": [],
   "source": [
    "def plot_accuracy(path, models):\n",
    "    '''Function to plot accuracy on train and validation sets.'''\n",
    "    for model in models:\n",
    "        history = joblib.load(os.path.join(path_to_results, model))\n",
    "        plt.plot(history.history['categorical_accuracy'])\n",
    "        plt.plot(history.history['val_categorical_accuracy'])\n",
    "        plt.title(f\"model {model} accuracy\")\n",
    "        plt.ylabel('accuracy')\n",
    "        plt.ylim(0.6, 1)\n",
    "        plt.xlabel('epoch')\n",
    "        plt.legend(['train', 'valid'], loc='upper left')\n",
    "        plt.show()"
   ]
  },
  {
   "cell_type": "code",
   "execution_count": 0,
   "metadata": {
    "colab": {},
    "colab_type": "code",
    "collapsed": true,
    "id": "UwTczbZq0vTr"
   },
   "outputs": [],
   "source": [
    "def plot_loss(path, models):\n",
    "    '''Function to plot loss on train and validation sets.'''\n",
    "    for model in models:\n",
    "        history = joblib.load(os.path.join(path_to_results, model))\n",
    "        plt.plot(history.history['loss'])\n",
    "        plt.plot(history.history['val_loss'])\n",
    "        plt.title(f\"model {model} loss\")\n",
    "        plt.ylabel('loss')\n",
    "        plt.ylim(0.6, 1)\n",
    "        plt.xlabel('epoch')\n",
    "        plt.legend(['train', 'valid'], loc='upper left')\n",
    "        plt.show()"
   ]
  },
  {
   "cell_type": "code",
   "execution_count": 0,
   "metadata": {
    "colab": {
     "base_uri": "https://localhost:8080/",
     "height": 851
    },
    "colab_type": "code",
    "collapsed": false,
    "id": "T8hhrktu5YTi",
    "outputId": "96a4cd80-c127-4a7e-ffd5-aec2ce7da1d2"
   },
   "outputs": [
    {
     "data": {
      "image/png": "[encoded data removed]",
      "text/plain": [
       "<Figure size 432x288 with 1 Axes>"
      ]
     },
     "metadata": {
      "tags": []
     },
     "output_type": "display_data"
    },
    {
     "data": {
      "image/png": "[encoded data removed]",
      "text/plain": [
       "<Figure size 432x288 with 1 Axes>"
      ]
     },
     "metadata": {
      "tags": []
     },
     "output_type": "display_data"
    },
    {
     "data": {
      "image/png": "[encoded data removed]",
      "text/plain": [
       "<Figure size 432x288 with 1 Axes>"
      ]
     },
     "metadata": {
      "tags": []
     },
     "output_type": "display_data"
    }
   ],
   "source": [
    "# plotting accuracy of models for train and validation sets\n",
    "path_to_results = \"data/results\"\n",
    "plot_accuracy(path_to_results, models)"
   ]
  },
  {
   "cell_type": "markdown",
   "metadata": {
    "colab_type": "text",
    "id": "68N04fsz9yMs"
   },
   "source": [
    "Accuracies of the models are similiar with LeNet style model performing best (0,916 on the validation set). The models don't seem to be overfitting a lot as the discrepancy between accuracy on the train and validation set reaches ca. 6 percentage points at its highest (usually ca. 4 percentage points). The models were fitted using EarlyStopping callback with patience=5 and as a result were trained only for 8-15 epochs. On the plots above there is no clear point of divergence between train and validation accuracies and the falls in validation loss (monitor for EarlyStopping) could be temporal. So now I will train the models for 50 epochs to check if they perform better or if there's a clear point where they begin to overfit.\n",
    "\n"
   ]
  },
  {
   "cell_type": "code",
   "execution_count": 0,
   "metadata": {
    "colab": {
     "base_uri": "https://localhost:8080/",
     "height": 6803
    },
    "colab_type": "code",
    "collapsed": false,
    "id": "NVH94gHjXC5Q",
    "outputId": "be9094e9-fdfe-45b8-d4b1-67feb3bfe52b"
   },
   "outputs": [
    {
     "name": "stdout",
     "output_type": "stream",
     "text": [
      "_________________________________________________________________\n",
      "Layer (type)                 Output Shape              Param #   \n",
      "=================================================================\n",
      "conv2d_1 (Conv2D)            (None, 200, 200, 6)       606       \n",
      "_________________________________________________________________\n",
      "max_pooling2d_1 (MaxPooling2 (None, 100, 100, 6)       0         \n",
      "_________________________________________________________________\n",
      "conv2d_2 (Conv2D)            (None, 100, 100, 16)      2416      \n",
      "_________________________________________________________________\n",
      "max_pooling2d_2 (MaxPooling2 (None, 50, 50, 16)        0         \n",
      "_________________________________________________________________\n",
      "conv2d_3 (Conv2D)            (None, 50, 50, 32)        12832     \n",
      "_________________________________________________________________\n",
      "max_pooling2d_3 (MaxPooling2 (None, 25, 25, 32)        0         \n",
      "_________________________________________________________________\n",
      "flatten_1 (Flatten)          (None, 20000)             0         \n",
      "_________________________________________________________________\n",
      "dense_1 (Dense)              (None, 84)                1680084   \n",
      "_________________________________________________________________\n",
      "dense_2 (Dense)              (None, 16)                1360      \n",
      "=================================================================\n",
      "Total params: 1,697,298\n",
      "Trainable params: 1,697,298\n",
      "Non-trainable params: 0\n",
      "_________________________________________________________________\n"
     ]
    },
    {
     "name": "stderr",
     "output_type": "stream",
     "text": [
      "/usr/local/lib/python3.6/dist-packages/keras/utils/data_utils.py:651: DeprecationWarning: `wait_time` is not used anymore.\n",
      "  DeprecationWarning)\n"
     ]
    },
    {
     "name": "stdout",
     "output_type": "stream",
     "text": [
      "Epoch 1/50\n",
      "278/278 [==============================] - 86s 309ms/step - loss: 1.3060 - categorical_accuracy: 0.5251 - val_loss: 0.9225 - val_categorical_accuracy: 0.6729\n",
      "Epoch 2/50\n",
      "278/278 [==============================] - 81s 292ms/step - loss: 0.8892 - categorical_accuracy: 0.6683 - val_loss: 0.6307 - val_categorical_accuracy: 0.7854\n",
      "Epoch 3/50\n",
      "278/278 [==============================] - 83s 300ms/step - loss: 0.7706 - categorical_accuracy: 0.7187 - val_loss: 0.5948 - val_categorical_accuracy: 0.7807\n",
      "Epoch 4/50\n",
      "278/278 [==============================] - 84s 302ms/step - loss: 0.6282 - categorical_accuracy: 0.7727 - val_loss: 0.4887 - val_categorical_accuracy: 0.8151\n",
      "Epoch 5/50\n",
      "278/278 [==============================] - 84s 303ms/step - loss: 0.5372 - categorical_accuracy: 0.7996 - val_loss: 0.4801 - val_categorical_accuracy: 0.8203\n",
      "Epoch 6/50\n",
      "278/278 [==============================] - 82s 293ms/step - loss: 0.4771 - categorical_accuracy: 0.8261 - val_loss: 0.4050 - val_categorical_accuracy: 0.8526\n",
      "Epoch 7/50\n",
      "278/278 [==============================] - 82s 295ms/step - loss: 0.4089 - categorical_accuracy: 0.8489 - val_loss: 0.3813 - val_categorical_accuracy: 0.8542\n",
      "Epoch 8/50\n",
      "278/278 [==============================] - 83s 297ms/step - loss: 0.3614 - categorical_accuracy: 0.8655 - val_loss: 0.3963 - val_categorical_accuracy: 0.8552\n",
      "Epoch 9/50\n",
      "278/278 [==============================] - 82s 295ms/step - loss: 0.3134 - categorical_accuracy: 0.8803 - val_loss: 0.3656 - val_categorical_accuracy: 0.8651\n",
      "Epoch 10/50\n",
      "278/278 [==============================] - 82s 294ms/step - loss: 0.2771 - categorical_accuracy: 0.8982 - val_loss: 0.3222 - val_categorical_accuracy: 0.8708\n",
      "Epoch 11/50\n",
      "278/278 [==============================] - 82s 295ms/step - loss: 0.2660 - categorical_accuracy: 0.8974 - val_loss: 0.3083 - val_categorical_accuracy: 0.8865\n",
      "Epoch 12/50\n",
      "278/278 [==============================] - 82s 296ms/step - loss: 0.2460 - categorical_accuracy: 0.9057 - val_loss: 0.3202 - val_categorical_accuracy: 0.8724\n",
      "Epoch 13/50\n",
      "278/278 [==============================] - 82s 294ms/step - loss: 0.2182 - categorical_accuracy: 0.9159 - val_loss: 0.2572 - val_categorical_accuracy: 0.8974\n",
      "Epoch 14/50\n",
      "278/278 [==============================] - 82s 295ms/step - loss: 0.2177 - categorical_accuracy: 0.9152 - val_loss: 0.2632 - val_categorical_accuracy: 0.9036\n",
      "Epoch 15/50\n",
      "278/278 [==============================] - 81s 293ms/step - loss: 0.1959 - categorical_accuracy: 0.9219 - val_loss: 0.2542 - val_categorical_accuracy: 0.8938\n",
      "Epoch 16/50\n",
      "278/278 [==============================] - 81s 292ms/step - loss: 0.1933 - categorical_accuracy: 0.9244 - val_loss: 0.2826 - val_categorical_accuracy: 0.8995\n",
      "Epoch 17/50\n",
      "278/278 [==============================] - 81s 291ms/step - loss: 0.1964 - categorical_accuracy: 0.9215 - val_loss: 0.2850 - val_categorical_accuracy: 0.8964\n",
      "Epoch 18/50\n",
      "278/278 [==============================] - 81s 291ms/step - loss: 0.1621 - categorical_accuracy: 0.9353 - val_loss: 0.2809 - val_categorical_accuracy: 0.9031\n",
      "Epoch 19/50\n",
      "278/278 [==============================] - 81s 292ms/step - loss: 0.1555 - categorical_accuracy: 0.9337 - val_loss: 0.2247 - val_categorical_accuracy: 0.9146\n",
      "Epoch 20/50\n",
      "278/278 [==============================] - 81s 291ms/step - loss: 0.1442 - categorical_accuracy: 0.9440 - val_loss: 0.2492 - val_categorical_accuracy: 0.9089\n",
      "Epoch 21/50\n",
      "278/278 [==============================] - 81s 292ms/step - loss: 0.1571 - categorical_accuracy: 0.9357 - val_loss: 0.2540 - val_categorical_accuracy: 0.9099\n",
      "Epoch 22/50\n",
      "278/278 [==============================] - 81s 292ms/step - loss: 0.1235 - categorical_accuracy: 0.9512 - val_loss: 0.2327 - val_categorical_accuracy: 0.9135\n",
      "Epoch 23/50\n",
      "278/278 [==============================] - 82s 295ms/step - loss: 0.1342 - categorical_accuracy: 0.9445 - val_loss: 0.2546 - val_categorical_accuracy: 0.9135\n",
      "Epoch 24/50\n",
      "278/278 [==============================] - 82s 295ms/step - loss: 0.1229 - categorical_accuracy: 0.9517 - val_loss: 0.2928 - val_categorical_accuracy: 0.8927\n",
      "Epoch 25/50\n",
      "278/278 [==============================] - 82s 294ms/step - loss: 0.1267 - categorical_accuracy: 0.9490 - val_loss: 0.2342 - val_categorical_accuracy: 0.9198\n",
      "Epoch 26/50\n",
      "278/278 [==============================] - 82s 294ms/step - loss: 0.1245 - categorical_accuracy: 0.9548 - val_loss: 0.1681 - val_categorical_accuracy: 0.9302\n",
      "Epoch 27/50\n",
      "278/278 [==============================] - 82s 294ms/step - loss: 0.1163 - categorical_accuracy: 0.9570 - val_loss: 0.2474 - val_categorical_accuracy: 0.9250\n",
      "Epoch 28/50\n",
      "278/278 [==============================] - 82s 294ms/step - loss: 0.1011 - categorical_accuracy: 0.9634 - val_loss: 0.2093 - val_categorical_accuracy: 0.9344\n",
      "Epoch 29/50\n",
      "278/278 [==============================] - 81s 293ms/step - loss: 0.0943 - categorical_accuracy: 0.9624 - val_loss: 0.2118 - val_categorical_accuracy: 0.9286\n",
      "Epoch 30/50\n",
      "278/278 [==============================] - 82s 294ms/step - loss: 0.0821 - categorical_accuracy: 0.9705 - val_loss: 0.2616 - val_categorical_accuracy: 0.9109\n",
      "Epoch 31/50\n",
      "278/278 [==============================] - 82s 294ms/step - loss: 0.0901 - categorical_accuracy: 0.9683 - val_loss: 0.2082 - val_categorical_accuracy: 0.9328\n",
      "Epoch 32/50\n",
      "278/278 [==============================] - 82s 294ms/step - loss: 0.0932 - categorical_accuracy: 0.9667 - val_loss: 0.2276 - val_categorical_accuracy: 0.9365\n",
      "Epoch 33/50\n",
      "278/278 [==============================] - 82s 294ms/step - loss: 0.0682 - categorical_accuracy: 0.9782 - val_loss: 0.2256 - val_categorical_accuracy: 0.9354\n",
      "Epoch 34/50\n",
      "278/278 [==============================] - 82s 294ms/step - loss: 0.0772 - categorical_accuracy: 0.9719 - val_loss: 0.1984 - val_categorical_accuracy: 0.9422\n",
      "Epoch 35/50\n",
      "278/278 [==============================] - 82s 296ms/step - loss: 0.0802 - categorical_accuracy: 0.9744 - val_loss: 0.2052 - val_categorical_accuracy: 0.9411\n",
      "Epoch 36/50\n",
      "278/278 [==============================] - 82s 295ms/step - loss: 0.0666 - categorical_accuracy: 0.9754 - val_loss: 0.2390 - val_categorical_accuracy: 0.9370\n",
      "Epoch 37/50\n",
      "278/278 [==============================] - 82s 295ms/step - loss: 0.0521 - categorical_accuracy: 0.9789 - val_loss: 0.1825 - val_categorical_accuracy: 0.9484\n",
      "Epoch 38/50\n",
      "278/278 [==============================] - 82s 296ms/step - loss: 0.0571 - categorical_accuracy: 0.9807 - val_loss: 0.2637 - val_categorical_accuracy: 0.9281\n",
      "Epoch 39/50\n",
      "278/278 [==============================] - 82s 296ms/step - loss: 0.0707 - categorical_accuracy: 0.9763 - val_loss: 0.1579 - val_categorical_accuracy: 0.9547\n",
      "Epoch 40/50\n",
      "278/278 [==============================] - 82s 294ms/step - loss: 0.0625 - categorical_accuracy: 0.9791 - val_loss: 0.1975 - val_categorical_accuracy: 0.9521\n",
      "Epoch 41/50\n",
      "278/278 [==============================] - 82s 294ms/step - loss: 0.0660 - categorical_accuracy: 0.9798 - val_loss: 0.1830 - val_categorical_accuracy: 0.9521\n",
      "Epoch 42/50\n",
      "278/278 [==============================] - 82s 294ms/step - loss: 0.0650 - categorical_accuracy: 0.9795 - val_loss: 0.1908 - val_categorical_accuracy: 0.9479\n",
      "Epoch 43/50\n",
      "278/278 [==============================] - 82s 294ms/step - loss: 0.0424 - categorical_accuracy: 0.9856 - val_loss: 0.1581 - val_categorical_accuracy: 0.9589\n",
      "Epoch 44/50\n",
      "278/278 [==============================] - 82s 294ms/step - loss: 0.0351 - categorical_accuracy: 0.9874 - val_loss: 0.1970 - val_categorical_accuracy: 0.9500\n",
      "Epoch 45/50\n",
      "278/278 [==============================] - 81s 293ms/step - loss: 0.0530 - categorical_accuracy: 0.9820 - val_loss: 0.1887 - val_categorical_accuracy: 0.9536\n",
      "Epoch 46/50\n",
      "278/278 [==============================] - 81s 293ms/step - loss: 0.0446 - categorical_accuracy: 0.9835 - val_loss: 0.2302 - val_categorical_accuracy: 0.9484\n",
      "Epoch 47/50\n",
      "278/278 [==============================] - 81s 292ms/step - loss: 0.0607 - categorical_accuracy: 0.9834 - val_loss: 0.1643 - val_categorical_accuracy: 0.9542\n",
      "Epoch 48/50\n",
      "278/278 [==============================] - 81s 293ms/step - loss: 0.0514 - categorical_accuracy: 0.9843 - val_loss: 0.1597 - val_categorical_accuracy: 0.9568\n",
      "Epoch 49/50\n",
      "278/278 [==============================] - 82s 294ms/step - loss: 0.0407 - categorical_accuracy: 0.9872 - val_loss: 0.2010 - val_categorical_accuracy: 0.9521\n",
      "Epoch 50/50\n",
      "278/278 [==============================] - 81s 293ms/step - loss: 0.0443 - categorical_accuracy: 0.9861 - val_loss: 0.1944 - val_categorical_accuracy: 0.9536\n"
     ]
    },
    {
     "name": "stderr",
     "output_type": "stream",
     "text": [
      "/usr/local/lib/python3.6/dist-packages/keras/utils/data_utils.py:651: DeprecationWarning: `wait_time` is not used anymore.\n",
      "  DeprecationWarning)\n"
     ]
    },
    {
     "name": "stdout",
     "output_type": "stream",
     "text": [
      "WARNING:tensorflow:From /usr/local/lib/python3.6/dist-packages/keras/backend/tensorflow_backend.py:3445: calling dropout (from tensorflow.python.ops.nn_ops) with keep_prob is deprecated and will be removed in a future version.\n",
      "Instructions for updating:\n",
      "Please use `rate` instead of `keep_prob`. Rate should be set to `rate = 1 - keep_prob`.\n",
      "_________________________________________________________________\n",
      "Layer (type)                 Output Shape              Param #   \n",
      "=================================================================\n",
      "conv2d_4 (Conv2D)            (None, 200, 200, 16)      7760      \n",
      "_________________________________________________________________\n",
      "max_pooling2d_4 (MaxPooling2 (None, 66, 66, 16)        0         \n",
      "_________________________________________________________________\n",
      "batch_normalization_1 (Batch (None, 66, 66, 16)        64        \n",
      "_________________________________________________________________\n",
      "conv2d_5 (Conv2D)            (None, 66, 66, 32)        12832     \n",
      "_________________________________________________________________\n",
      "max_pooling2d_5 (MaxPooling2 (None, 22, 22, 32)        0         \n",
      "_________________________________________________________________\n",
      "batch_normalization_2 (Batch (None, 22, 22, 32)        128       \n",
      "_________________________________________________________________\n",
      "conv2d_6 (Conv2D)            (None, 22, 22, 64)        51264     \n",
      "_________________________________________________________________\n",
      "max_pooling2d_6 (MaxPooling2 (None, 11, 11, 64)        0         \n",
      "_________________________________________________________________\n",
      "flatten_2 (Flatten)          (None, 7744)              0         \n",
      "_________________________________________________________________\n",
      "dropout_1 (Dropout)          (None, 7744)              0         \n",
      "_________________________________________________________________\n",
      "dense_3 (Dense)              (None, 84)                650580    \n",
      "_________________________________________________________________\n",
      "dense_4 (Dense)              (None, 16)                1360      \n",
      "=================================================================\n",
      "Total params: 723,988\n",
      "Trainable params: 723,892\n",
      "Non-trainable params: 96\n",
      "_________________________________________________________________\n"
     ]
    },
    {
     "name": "stderr",
     "output_type": "stream",
     "text": [
      "/usr/local/lib/python3.6/dist-packages/keras/utils/data_utils.py:651: DeprecationWarning: `wait_time` is not used anymore.\n",
      "  DeprecationWarning)\n"
     ]
    },
    {
     "name": "stdout",
     "output_type": "stream",
     "text": [
      "Epoch 1/50\n",
      "278/278 [==============================] - 85s 305ms/step - loss: 2.0275 - categorical_accuracy: 0.3100 - val_loss: 1.5878 - val_categorical_accuracy: 0.4719\n",
      "Epoch 2/50\n",
      "278/278 [==============================] - 80s 289ms/step - loss: 1.5011 - categorical_accuracy: 0.4392 - val_loss: 1.0453 - val_categorical_accuracy: 0.5729\n",
      "Epoch 3/50\n",
      "278/278 [==============================] - 80s 289ms/step - loss: 1.2611 - categorical_accuracy: 0.5120 - val_loss: 1.0004 - val_categorical_accuracy: 0.6135\n",
      "Epoch 4/50\n",
      "278/278 [==============================] - 80s 290ms/step - loss: 1.0992 - categorical_accuracy: 0.5760 - val_loss: 0.8825 - val_categorical_accuracy: 0.6536\n",
      "Epoch 5/50\n",
      "278/278 [==============================] - 81s 291ms/step - loss: 1.0205 - categorical_accuracy: 0.6067 - val_loss: 0.8519 - val_categorical_accuracy: 0.6516\n",
      "Epoch 6/50\n",
      "278/278 [==============================] - 81s 291ms/step - loss: 0.8789 - categorical_accuracy: 0.6500 - val_loss: 0.7353 - val_categorical_accuracy: 0.7073\n",
      "Epoch 7/50\n",
      "278/278 [==============================] - 82s 293ms/step - loss: 0.8272 - categorical_accuracy: 0.6722 - val_loss: 0.6983 - val_categorical_accuracy: 0.7411\n",
      "Epoch 8/50\n",
      "278/278 [==============================] - 81s 292ms/step - loss: 0.7775 - categorical_accuracy: 0.6975 - val_loss: 0.8616 - val_categorical_accuracy: 0.6734\n",
      "Epoch 9/50\n",
      "278/278 [==============================] - 82s 293ms/step - loss: 0.7121 - categorical_accuracy: 0.7196 - val_loss: 0.7686 - val_categorical_accuracy: 0.6974\n",
      "Epoch 10/50\n",
      "278/278 [==============================] - 81s 291ms/step - loss: 0.6592 - categorical_accuracy: 0.7463 - val_loss: 0.6365 - val_categorical_accuracy: 0.7578\n",
      "Epoch 11/50\n",
      "278/278 [==============================] - 81s 293ms/step - loss: 0.6234 - categorical_accuracy: 0.7524 - val_loss: 1.0036 - val_categorical_accuracy: 0.6573\n",
      "Epoch 12/50\n",
      "278/278 [==============================] - 82s 297ms/step - loss: 0.5710 - categorical_accuracy: 0.7772 - val_loss: 0.5097 - val_categorical_accuracy: 0.7901\n",
      "Epoch 13/50\n",
      "278/278 [==============================] - 80s 289ms/step - loss: 0.5516 - categorical_accuracy: 0.7863 - val_loss: 0.9814 - val_categorical_accuracy: 0.6557\n",
      "Epoch 14/50\n",
      "278/278 [==============================] - 80s 289ms/step - loss: 0.5203 - categorical_accuracy: 0.7972 - val_loss: 0.7698 - val_categorical_accuracy: 0.6823\n",
      "Epoch 15/50\n",
      "278/278 [==============================] - 81s 291ms/step - loss: 0.4706 - categorical_accuracy: 0.8171 - val_loss: 0.6453 - val_categorical_accuracy: 0.7380\n",
      "Epoch 16/50\n",
      "278/278 [==============================] - 81s 291ms/step - loss: 0.4562 - categorical_accuracy: 0.8189 - val_loss: 0.6049 - val_categorical_accuracy: 0.7526\n",
      "Epoch 17/50\n",
      "278/278 [==============================] - 81s 291ms/step - loss: 0.4530 - categorical_accuracy: 0.8193 - val_loss: 0.3805 - val_categorical_accuracy: 0.8536\n",
      "Epoch 18/50\n",
      "278/278 [==============================] - 81s 290ms/step - loss: 0.4139 - categorical_accuracy: 0.8402 - val_loss: 0.4957 - val_categorical_accuracy: 0.8042\n",
      "Epoch 19/50\n",
      "278/278 [==============================] - 82s 294ms/step - loss: 0.4162 - categorical_accuracy: 0.8318 - val_loss: 0.3681 - val_categorical_accuracy: 0.8495\n",
      "Epoch 20/50\n",
      "278/278 [==============================] - 83s 298ms/step - loss: 0.4085 - categorical_accuracy: 0.8368 - val_loss: 0.4502 - val_categorical_accuracy: 0.8229\n",
      "Epoch 21/50\n",
      "278/278 [==============================] - 80s 288ms/step - loss: 0.3841 - categorical_accuracy: 0.8556 - val_loss: 0.4642 - val_categorical_accuracy: 0.7948\n",
      "Epoch 22/50\n",
      "278/278 [==============================] - 81s 290ms/step - loss: 0.3495 - categorical_accuracy: 0.8643 - val_loss: 0.7031 - val_categorical_accuracy: 0.7536\n",
      "Epoch 23/50\n",
      "278/278 [==============================] - 80s 289ms/step - loss: 0.3547 - categorical_accuracy: 0.8594 - val_loss: 0.4827 - val_categorical_accuracy: 0.8078\n",
      "Epoch 24/50\n",
      "278/278 [==============================] - 81s 290ms/step - loss: 0.3530 - categorical_accuracy: 0.8647 - val_loss: 0.7071 - val_categorical_accuracy: 0.7438\n",
      "Epoch 25/50\n",
      "278/278 [==============================] - 81s 290ms/step - loss: 0.3369 - categorical_accuracy: 0.8713 - val_loss: 0.3489 - val_categorical_accuracy: 0.8536\n",
      "Epoch 26/50\n",
      "278/278 [==============================] - 81s 291ms/step - loss: 0.3228 - categorical_accuracy: 0.8743 - val_loss: 0.5218 - val_categorical_accuracy: 0.8047\n",
      "Epoch 27/50\n",
      "278/278 [==============================] - 80s 289ms/step - loss: 0.3146 - categorical_accuracy: 0.8793 - val_loss: 0.5646 - val_categorical_accuracy: 0.7937\n",
      "Epoch 28/50\n",
      "278/278 [==============================] - 80s 288ms/step - loss: 0.3134 - categorical_accuracy: 0.8788 - val_loss: 0.4036 - val_categorical_accuracy: 0.8531\n",
      "Epoch 29/50\n",
      "278/278 [==============================] - 82s 294ms/step - loss: 0.2846 - categorical_accuracy: 0.8826 - val_loss: 0.3133 - val_categorical_accuracy: 0.8792\n",
      "Epoch 30/50\n",
      "278/278 [==============================] - 81s 292ms/step - loss: 0.2757 - categorical_accuracy: 0.8890 - val_loss: 0.7896 - val_categorical_accuracy: 0.7531\n",
      "Epoch 31/50\n",
      "278/278 [==============================] - 80s 288ms/step - loss: 0.2846 - categorical_accuracy: 0.8857 - val_loss: 0.8803 - val_categorical_accuracy: 0.7500\n",
      "Epoch 32/50\n",
      "278/278 [==============================] - 80s 287ms/step - loss: 0.2535 - categorical_accuracy: 0.9000 - val_loss: 0.4932 - val_categorical_accuracy: 0.8234\n",
      "Epoch 33/50\n",
      "278/278 [==============================] - 80s 289ms/step - loss: 0.2717 - categorical_accuracy: 0.8945 - val_loss: 0.7100 - val_categorical_accuracy: 0.7688\n",
      "Epoch 34/50\n",
      "278/278 [==============================] - 80s 288ms/step - loss: 0.2765 - categorical_accuracy: 0.8928 - val_loss: 0.3828 - val_categorical_accuracy: 0.8396\n",
      "Epoch 35/50\n",
      "278/278 [==============================] - 80s 288ms/step - loss: 0.2359 - categorical_accuracy: 0.9123 - val_loss: 0.2839 - val_categorical_accuracy: 0.8823\n",
      "Epoch 36/50\n",
      "278/278 [==============================] - 79s 285ms/step - loss: 0.2258 - categorical_accuracy: 0.9136 - val_loss: 0.5505 - val_categorical_accuracy: 0.7990\n",
      "Epoch 37/50\n",
      "278/278 [==============================] - 80s 289ms/step - loss: 0.2421 - categorical_accuracy: 0.9059 - val_loss: 0.2316 - val_categorical_accuracy: 0.9000\n",
      "Epoch 38/50\n",
      "278/278 [==============================] - 80s 287ms/step - loss: 0.2371 - categorical_accuracy: 0.9060 - val_loss: 0.3278 - val_categorical_accuracy: 0.8839\n",
      "Epoch 39/50\n",
      "278/278 [==============================] - 80s 288ms/step - loss: 0.2425 - categorical_accuracy: 0.9105 - val_loss: 0.5050 - val_categorical_accuracy: 0.8401\n",
      "Epoch 40/50\n",
      "278/278 [==============================] - 80s 286ms/step - loss: 0.2301 - categorical_accuracy: 0.9134 - val_loss: 0.3398 - val_categorical_accuracy: 0.8786\n",
      "Epoch 41/50\n",
      "278/278 [==============================] - 80s 289ms/step - loss: 0.2146 - categorical_accuracy: 0.9134 - val_loss: 0.4279 - val_categorical_accuracy: 0.8453\n",
      "Epoch 42/50\n",
      "278/278 [==============================] - 80s 287ms/step - loss: 0.2372 - categorical_accuracy: 0.9145 - val_loss: 0.3246 - val_categorical_accuracy: 0.8906\n",
      "Epoch 43/50\n",
      "278/278 [==============================] - 80s 288ms/step - loss: 0.1980 - categorical_accuracy: 0.9230 - val_loss: 0.3281 - val_categorical_accuracy: 0.8880\n",
      "Epoch 44/50\n",
      "278/278 [==============================] - 80s 289ms/step - loss: 0.1987 - categorical_accuracy: 0.9274 - val_loss: 0.2884 - val_categorical_accuracy: 0.8906\n",
      "Epoch 45/50\n",
      "278/278 [==============================] - 82s 295ms/step - loss: 0.1902 - categorical_accuracy: 0.9274 - val_loss: 0.4108 - val_categorical_accuracy: 0.8677\n",
      "Epoch 46/50\n",
      "278/278 [==============================] - 82s 297ms/step - loss: 0.2043 - categorical_accuracy: 0.9178 - val_loss: 0.4204 - val_categorical_accuracy: 0.8552\n",
      "Epoch 47/50\n",
      "278/278 [==============================] - 80s 287ms/step - loss: 0.2282 - categorical_accuracy: 0.9140 - val_loss: 0.1930 - val_categorical_accuracy: 0.9328\n",
      "Epoch 48/50\n",
      "278/278 [==============================] - 82s 296ms/step - loss: 0.2076 - categorical_accuracy: 0.9239 - val_loss: 0.2885 - val_categorical_accuracy: 0.9005\n",
      "Epoch 49/50\n",
      "278/278 [==============================] - 81s 290ms/step - loss: 0.1825 - categorical_accuracy: 0.9326 - val_loss: 0.1931 - val_categorical_accuracy: 0.9214\n",
      "Epoch 50/50\n",
      "278/278 [==============================] - 80s 288ms/step - loss: 0.1829 - categorical_accuracy: 0.9307 - val_loss: 0.2150 - val_categorical_accuracy: 0.9214\n"
     ]
    },
    {
     "name": "stderr",
     "output_type": "stream",
     "text": [
      "/usr/local/lib/python3.6/dist-packages/keras/utils/data_utils.py:651: DeprecationWarning: `wait_time` is not used anymore.\n",
      "  DeprecationWarning)\n"
     ]
    },
    {
     "name": "stdout",
     "output_type": "stream",
     "text": [
      "_________________________________________________________________\n",
      "Layer (type)                 Output Shape              Param #   \n",
      "=================================================================\n",
      "conv2d_7 (Conv2D)            (None, 200, 200, 16)      1616      \n",
      "_________________________________________________________________\n",
      "conv2d_8 (Conv2D)            (None, 200, 200, 16)      6416      \n",
      "_________________________________________________________________\n",
      "max_pooling2d_7 (MaxPooling2 (None, 100, 100, 16)      0         \n",
      "_________________________________________________________________\n",
      "conv2d_9 (Conv2D)            (None, 100, 100, 32)      12832     \n",
      "_________________________________________________________________\n",
      "conv2d_10 (Conv2D)           (None, 100, 100, 32)      25632     \n",
      "_________________________________________________________________\n",
      "max_pooling2d_8 (MaxPooling2 (None, 50, 50, 32)        0         \n",
      "_________________________________________________________________\n",
      "flatten_3 (Flatten)          (None, 80000)             0         \n",
      "_________________________________________________________________\n",
      "dense_5 (Dense)              (None, 64)                5120064   \n",
      "_________________________________________________________________\n",
      "dense_6 (Dense)              (None, 64)                4160      \n",
      "_________________________________________________________________\n",
      "dense_7 (Dense)              (None, 16)                1040      \n",
      "=================================================================\n",
      "Total params: 5,171,760\n",
      "Trainable params: 5,171,760\n",
      "Non-trainable params: 0\n",
      "_________________________________________________________________\n"
     ]
    },
    {
     "name": "stderr",
     "output_type": "stream",
     "text": [
      "/usr/local/lib/python3.6/dist-packages/keras/utils/data_utils.py:651: DeprecationWarning: `wait_time` is not used anymore.\n",
      "  DeprecationWarning)\n"
     ]
    },
    {
     "name": "stdout",
     "output_type": "stream",
     "text": [
      "Epoch 1/50\n",
      "278/278 [==============================] - 90s 325ms/step - loss: 1.5511 - categorical_accuracy: 0.4549 - val_loss: 0.8883 - val_categorical_accuracy: 0.6609\n",
      "Epoch 2/50\n",
      "278/278 [==============================] - 86s 309ms/step - loss: 0.9799 - categorical_accuracy: 0.6382 - val_loss: 0.7640 - val_categorical_accuracy: 0.7094\n",
      "Epoch 3/50\n",
      "278/278 [==============================] - 86s 311ms/step - loss: 0.8557 - categorical_accuracy: 0.6909 - val_loss: 0.6586 - val_categorical_accuracy: 0.7568\n",
      "Epoch 4/50\n",
      "278/278 [==============================] - 87s 312ms/step - loss: 0.7251 - categorical_accuracy: 0.7274 - val_loss: 0.6249 - val_categorical_accuracy: 0.7766\n",
      "Epoch 5/50\n",
      "278/278 [==============================] - 88s 316ms/step - loss: 0.6222 - categorical_accuracy: 0.7770 - val_loss: 0.5350 - val_categorical_accuracy: 0.7927\n",
      "Epoch 6/50\n",
      "278/278 [==============================] - 86s 310ms/step - loss: 0.5449 - categorical_accuracy: 0.7957 - val_loss: 0.5537 - val_categorical_accuracy: 0.7979\n",
      "Epoch 7/50\n",
      "278/278 [==============================] - 86s 310ms/step - loss: 0.4715 - categorical_accuracy: 0.8229 - val_loss: 0.5648 - val_categorical_accuracy: 0.7875\n",
      "Epoch 8/50\n",
      "278/278 [==============================] - 86s 309ms/step - loss: 0.4097 - categorical_accuracy: 0.8549 - val_loss: 0.6680 - val_categorical_accuracy: 0.7724\n",
      "Epoch 9/50\n",
      "278/278 [==============================] - 86s 311ms/step - loss: 0.3683 - categorical_accuracy: 0.8626 - val_loss: 0.9187 - val_categorical_accuracy: 0.6823\n",
      "Epoch 10/50\n",
      "278/278 [==============================] - 86s 310ms/step - loss: 0.3129 - categorical_accuracy: 0.8804 - val_loss: 0.5812 - val_categorical_accuracy: 0.8000\n",
      "Epoch 11/50\n",
      "278/278 [==============================] - 86s 310ms/step - loss: 0.3233 - categorical_accuracy: 0.8720 - val_loss: 0.4732 - val_categorical_accuracy: 0.8240\n",
      "Epoch 12/50\n",
      "278/278 [==============================] - 86s 310ms/step - loss: 0.2740 - categorical_accuracy: 0.8955 - val_loss: 0.5193 - val_categorical_accuracy: 0.8255\n",
      "Epoch 13/50\n",
      "278/278 [==============================] - 87s 312ms/step - loss: 0.2570 - categorical_accuracy: 0.8997 - val_loss: 0.3717 - val_categorical_accuracy: 0.8667\n",
      "Epoch 14/50\n",
      "278/278 [==============================] - 87s 312ms/step - loss: 0.2186 - categorical_accuracy: 0.9128 - val_loss: 0.5626 - val_categorical_accuracy: 0.7979\n",
      "Epoch 15/50\n",
      "278/278 [==============================] - 87s 313ms/step - loss: 0.2354 - categorical_accuracy: 0.9118 - val_loss: 0.5182 - val_categorical_accuracy: 0.7964\n",
      "Epoch 16/50\n",
      "278/278 [==============================] - 86s 311ms/step - loss: 0.2121 - categorical_accuracy: 0.9169 - val_loss: 0.3243 - val_categorical_accuracy: 0.8776\n",
      "Epoch 17/50\n",
      "278/278 [==============================] - 87s 312ms/step - loss: 0.2044 - categorical_accuracy: 0.9192 - val_loss: 0.4015 - val_categorical_accuracy: 0.8740\n",
      "Epoch 18/50\n",
      "278/278 [==============================] - 86s 308ms/step - loss: 0.1863 - categorical_accuracy: 0.9294 - val_loss: 0.4754 - val_categorical_accuracy: 0.8448\n",
      "Epoch 19/50\n",
      "278/278 [==============================] - 87s 312ms/step - loss: 0.1642 - categorical_accuracy: 0.9382 - val_loss: 0.2963 - val_categorical_accuracy: 0.8953\n",
      "Epoch 20/50\n",
      "278/278 [==============================] - 86s 309ms/step - loss: 0.1651 - categorical_accuracy: 0.9312 - val_loss: 0.2856 - val_categorical_accuracy: 0.8984\n",
      "Epoch 21/50\n",
      "278/278 [==============================] - 87s 313ms/step - loss: 0.1602 - categorical_accuracy: 0.9362 - val_loss: 0.4658 - val_categorical_accuracy: 0.8344\n",
      "Epoch 22/50\n",
      "278/278 [==============================] - 86s 310ms/step - loss: 0.1560 - categorical_accuracy: 0.9366 - val_loss: 0.3907 - val_categorical_accuracy: 0.8557\n",
      "Epoch 23/50\n",
      "278/278 [==============================] - 87s 313ms/step - loss: 0.1455 - categorical_accuracy: 0.9408 - val_loss: 0.2836 - val_categorical_accuracy: 0.9109\n",
      "Epoch 24/50\n",
      "278/278 [==============================] - 87s 314ms/step - loss: 0.1522 - categorical_accuracy: 0.9406 - val_loss: 0.5119 - val_categorical_accuracy: 0.8469\n",
      "Epoch 25/50\n",
      "278/278 [==============================] - 88s 316ms/step - loss: 0.1329 - categorical_accuracy: 0.9465 - val_loss: 0.3338 - val_categorical_accuracy: 0.9000\n",
      "Epoch 26/50\n",
      "278/278 [==============================] - 88s 315ms/step - loss: 0.1538 - categorical_accuracy: 0.9408 - val_loss: 0.3729 - val_categorical_accuracy: 0.8802\n",
      "Epoch 27/50\n",
      "278/278 [==============================] - 88s 315ms/step - loss: 0.1250 - categorical_accuracy: 0.9530 - val_loss: 0.4720 - val_categorical_accuracy: 0.8672\n",
      "Epoch 28/50\n",
      "278/278 [==============================] - 88s 316ms/step - loss: 0.1216 - categorical_accuracy: 0.9531 - val_loss: 0.4692 - val_categorical_accuracy: 0.8630\n",
      "Epoch 29/50\n",
      "278/278 [==============================] - 87s 313ms/step - loss: 0.1293 - categorical_accuracy: 0.9497 - val_loss: 0.4700 - val_categorical_accuracy: 0.8682\n",
      "Epoch 30/50\n",
      "278/278 [==============================] - 88s 315ms/step - loss: 0.1258 - categorical_accuracy: 0.9534 - val_loss: 0.3539 - val_categorical_accuracy: 0.8906\n",
      "Epoch 31/50\n",
      "278/278 [==============================] - 87s 313ms/step - loss: 0.1174 - categorical_accuracy: 0.9543 - val_loss: 0.7282 - val_categorical_accuracy: 0.8141\n",
      "Epoch 32/50\n",
      "278/278 [==============================] - 88s 316ms/step - loss: 0.1101 - categorical_accuracy: 0.9586 - val_loss: 0.5536 - val_categorical_accuracy: 0.8484\n",
      "Epoch 33/50\n",
      "278/278 [==============================] - 88s 315ms/step - loss: 0.1139 - categorical_accuracy: 0.9564 - val_loss: 0.3024 - val_categorical_accuracy: 0.8938\n",
      "Epoch 34/50\n",
      "278/278 [==============================] - 88s 316ms/step - loss: 0.0954 - categorical_accuracy: 0.9651 - val_loss: 0.3468 - val_categorical_accuracy: 0.9078\n",
      "Epoch 35/50\n",
      "278/278 [==============================] - 88s 317ms/step - loss: 0.1023 - categorical_accuracy: 0.9622 - val_loss: 0.3067 - val_categorical_accuracy: 0.9047\n",
      "Epoch 36/50\n",
      "278/278 [==============================] - 89s 321ms/step - loss: 0.1140 - categorical_accuracy: 0.9580 - val_loss: 0.4378 - val_categorical_accuracy: 0.8839\n",
      "Epoch 37/50\n",
      "278/278 [==============================] - 89s 319ms/step - loss: 0.1128 - categorical_accuracy: 0.9595 - val_loss: 0.6204 - val_categorical_accuracy: 0.8500\n",
      "Epoch 38/50\n",
      "278/278 [==============================] - 89s 320ms/step - loss: 0.0905 - categorical_accuracy: 0.9696 - val_loss: 0.5227 - val_categorical_accuracy: 0.8688\n",
      "Epoch 39/50\n",
      "278/278 [==============================] - 88s 318ms/step - loss: 0.0890 - categorical_accuracy: 0.9689 - val_loss: 0.4476 - val_categorical_accuracy: 0.8792\n",
      "Epoch 40/50\n",
      "278/278 [==============================] - 89s 319ms/step - loss: 0.0771 - categorical_accuracy: 0.9736 - val_loss: 0.5035 - val_categorical_accuracy: 0.8604\n",
      "Epoch 41/50\n",
      "278/278 [==============================] - 88s 317ms/step - loss: 0.0918 - categorical_accuracy: 0.9660 - val_loss: 0.4259 - val_categorical_accuracy: 0.8766\n",
      "Epoch 42/50\n",
      "278/278 [==============================] - 89s 319ms/step - loss: 0.0715 - categorical_accuracy: 0.9730 - val_loss: 0.3631 - val_categorical_accuracy: 0.8911\n",
      "Epoch 43/50\n",
      "278/278 [==============================] - 88s 317ms/step - loss: 0.0696 - categorical_accuracy: 0.9759 - val_loss: 0.4351 - val_categorical_accuracy: 0.8807\n",
      "Epoch 44/50\n",
      "278/278 [==============================] - 89s 321ms/step - loss: 0.0912 - categorical_accuracy: 0.9698 - val_loss: 0.3573 - val_categorical_accuracy: 0.9245\n",
      "Epoch 45/50\n",
      "278/278 [==============================] - 88s 317ms/step - loss: 0.0677 - categorical_accuracy: 0.9780 - val_loss: 0.2644 - val_categorical_accuracy: 0.9276\n",
      "Epoch 46/50\n",
      "278/278 [==============================] - 89s 320ms/step - loss: 0.0583 - categorical_accuracy: 0.9807 - val_loss: 0.2949 - val_categorical_accuracy: 0.9208\n",
      "Epoch 47/50\n",
      "278/278 [==============================] - 89s 318ms/step - loss: 0.1059 - categorical_accuracy: 0.9690 - val_loss: 0.4214 - val_categorical_accuracy: 0.9062\n",
      "Epoch 48/50\n",
      "278/278 [==============================] - 89s 320ms/step - loss: 0.0704 - categorical_accuracy: 0.9744 - val_loss: 0.3782 - val_categorical_accuracy: 0.8932\n",
      "Epoch 49/50\n",
      "278/278 [==============================] - 88s 318ms/step - loss: 0.0564 - categorical_accuracy: 0.9809 - val_loss: 0.3203 - val_categorical_accuracy: 0.9125\n",
      "Epoch 50/50\n",
      "278/278 [==============================] - 89s 320ms/step - loss: 0.0657 - categorical_accuracy: 0.9771 - val_loss: 0.3946 - val_categorical_accuracy: 0.9068\n"
     ]
    },
    {
     "name": "stderr",
     "output_type": "stream",
     "text": [
      "/usr/local/lib/python3.6/dist-packages/keras/utils/data_utils.py:651: DeprecationWarning: `wait_time` is not used anymore.\n",
      "  DeprecationWarning)\n"
     ]
    }
   ],
   "source": [
    "#training CNNs for 50 epochs\n",
    "lst_acc = []\n",
    "for model, params in models.items():\n",
    "    acc = (evaluate_model(build_model(params), model))\n",
    "    lst_acc.append(acc)"
   ]
  },
  {
   "cell_type": "code",
   "execution_count": 0,
   "metadata": {
    "colab": {},
    "colab_type": "code",
    "collapsed": true,
    "id": "Kh2e-9_hNpSa"
   },
   "outputs": [],
   "source": [
    "# printing accuracy of models\n",
    "model_results = pd.DataFrame(list(zip(models.keys(), lst_acc)), columns=[\"model\", \"accuracy\"]).sort_values(by=\"accuracy\", ascending=False).reset_index(drop=True)"
   ]
  },
  {
   "cell_type": "code",
   "execution_count": 0,
   "metadata": {
    "colab": {
     "base_uri": "https://localhost:8080/",
     "height": 142
    },
    "colab_type": "code",
    "collapsed": false,
    "id": "xq4eBiH3NpOb",
    "outputId": "292dd158-22c9-4b39-d571-dedb90e61681"
   },
   "outputs": [
    {
     "data": {
      "text/html": [
       "<div>\n",
       "<style scoped>\n",
       "    .dataframe tbody tr th:only-of-type {\n",
       "        vertical-align: middle;\n",
       "    }\n",
       "\n",
       "    .dataframe tbody tr th {\n",
       "        vertical-align: top;\n",
       "    }\n",
       "\n",
       "    .dataframe thead th {\n",
       "        text-align: right;\n",
       "    }\n",
       "</style>\n",
       "<table border=\"1\" class=\"dataframe\">\n",
       "  <thead>\n",
       "    <tr style=\"text-align: right;\">\n",
       "      <th></th>\n",
       "      <th>model</th>\n",
       "      <th>accuracy</th>\n",
       "    </tr>\n",
       "  </thead>\n",
       "  <tbody>\n",
       "    <tr>\n",
       "      <th>0</th>\n",
       "      <td>lenet_like</td>\n",
       "      <td>0.948958</td>\n",
       "    </tr>\n",
       "    <tr>\n",
       "      <th>1</th>\n",
       "      <td>alexnet_like</td>\n",
       "      <td>0.934375</td>\n",
       "    </tr>\n",
       "    <tr>\n",
       "      <th>2</th>\n",
       "      <td>vgg_like</td>\n",
       "      <td>0.926042</td>\n",
       "    </tr>\n",
       "  </tbody>\n",
       "</table>\n",
       "</div>"
      ],
      "text/plain": [
       "          model  accuracy\n",
       "0    lenet_like  0.948958\n",
       "1  alexnet_like  0.934375\n",
       "2      vgg_like  0.926042"
      ]
     },
     "execution_count": 28,
     "metadata": {
      "tags": []
     },
     "output_type": "execute_result"
    }
   ],
   "source": [
    "model_results"
   ]
  },
  {
   "cell_type": "markdown",
   "metadata": {
    "colab_type": "text",
    "id": "n2GlKQMET-8X"
   },
   "source": [
    "Still LeNet style model performed best with slightly higher accuracy. Longer training also improved performance of the remaining models. Let's check on the plots if they are not overfitted."
   ]
  },
  {
   "cell_type": "code",
   "execution_count": 0,
   "metadata": {
    "colab": {
     "base_uri": "https://localhost:8080/",
     "height": 851
    },
    "colab_type": "code",
    "collapsed": false,
    "id": "gsMsqE2UM_jJ",
    "outputId": "bb54941b-1f36-4396-db55-64500fc7f257"
   },
   "outputs": [
    {
     "data": {
      "image/png": "[encoded data removed]",
      "text/plain": [
       "<Figure size 432x288 with 1 Axes>"
      ]
     },
     "metadata": {
      "tags": []
     },
     "output_type": "display_data"
    },
    {
     "data": {
      "image/png": "[encoded data removed]",
      "text/plain": [
       "<Figure size 432x288 with 1 Axes>"
      ]
     },
     "metadata": {
      "tags": []
     },
     "output_type": "display_data"
    },
    {
     "data": {
      "image/png": "[encoded data removed]",
      "text/plain": [
       "<Figure size 432x288 with 1 Axes>"
      ]
     },
     "metadata": {
      "tags": []
     },
     "output_type": "display_data"
    }
   ],
   "source": [
    "# plotting accuracy of models for train and validation sets\n",
    "path_to_results = \"data/results\"\n",
    "plot_accuracy(path_to_results, models)"
   ]
  },
  {
   "cell_type": "code",
   "execution_count": 0,
   "metadata": {
    "colab": {
     "base_uri": "https://localhost:8080/",
     "height": 851
    },
    "colab_type": "code",
    "collapsed": false,
    "id": "N9UybgWBE-_J",
    "outputId": "e333618e-3136-4e41-e92b-c414e27aaa85"
   },
   "outputs": [
    {
     "data": {
      "image/png": "[encoded data removed]",
      "text/plain": [
       "<Figure size 432x288 with 1 Axes>"
      ]
     },
     "metadata": {
      "tags": []
     },
     "output_type": "display_data"
    },
    {
     "data": {
      "image/png": "[encoded data removed]",
      "text/plain": [
       "<Figure size 432x288 with 1 Axes>"
      ]
     },
     "metadata": {
      "tags": []
     },
     "output_type": "display_data"
    },
    {
     "data": {
      "image/png": "[encoded data removed]",
      "text/plain": [
       "<Figure size 432x288 with 1 Axes>"
      ]
     },
     "metadata": {
      "tags": []
     },
     "output_type": "display_data"
    }
   ],
   "source": [
    "# plotting loss of models for train and validation sets\n",
    "path_to_results = \"data/results\"\n",
    "plot_loss(path_to_results, models)"
   ]
  },
  {
   "cell_type": "markdown",
   "metadata": {
    "colab_type": "text",
    "id": "cHP71SW7UQjY"
   },
   "source": [
    "VGG style model seems to be most overfitted. LeNet style model's discrepancy between train and validation accuracy seems to be reasonable and least volatile of all the models. Now I will check how best model scores on the unseen test set."
   ]
  },
  {
   "cell_type": "markdown",
   "metadata": {
    "colab_type": "text",
    "id": "wXnbQmHBtQmk"
   },
   "source": [
    "# Results on test set"
   ]
  },
  {
   "cell_type": "markdown",
   "metadata": {
    "colab_type": "text",
    "id": "zPNsTziVSmMK"
   },
   "source": [
    "I will load LeNet style model trained for 10 epochs (from the first round of models training), load its weights from the file and evaluate its performance on the test set."
   ]
  },
  {
   "cell_type": "code",
   "execution_count": 19,
   "metadata": {
    "colab": {
     "base_uri": "https://localhost:8080/",
     "height": 513
    },
    "colab_type": "code",
    "collapsed": false,
    "id": "rDMdzDMUXMDb",
    "outputId": "af2bc1f1-531b-41f9-ab1d-4a6a7efea861"
   },
   "outputs": [
    {
     "name": "stdout",
     "output_type": "stream",
     "text": [
      "WARNING:tensorflow:From /usr/local/lib/python3.6/dist-packages/tensorflow/python/framework/op_def_library.py:263: colocate_with (from tensorflow.python.framework.ops) is deprecated and will be removed in a future version.\n",
      "Instructions for updating:\n",
      "Colocations handled automatically by placer.\n",
      "_________________________________________________________________\n",
      "Layer (type)                 Output Shape              Param #   \n",
      "=================================================================\n",
      "conv2d_1 (Conv2D)            (None, 200, 200, 6)       606       \n",
      "_________________________________________________________________\n",
      "max_pooling2d_1 (MaxPooling2 (None, 100, 100, 6)       0         \n",
      "_________________________________________________________________\n",
      "conv2d_2 (Conv2D)            (None, 100, 100, 16)      2416      \n",
      "_________________________________________________________________\n",
      "max_pooling2d_2 (MaxPooling2 (None, 50, 50, 16)        0         \n",
      "_________________________________________________________________\n",
      "conv2d_3 (Conv2D)            (None, 50, 50, 32)        12832     \n",
      "_________________________________________________________________\n",
      "max_pooling2d_3 (MaxPooling2 (None, 25, 25, 32)        0         \n",
      "_________________________________________________________________\n",
      "flatten_1 (Flatten)          (None, 20000)             0         \n",
      "_________________________________________________________________\n",
      "dense_1 (Dense)              (None, 84)                1680084   \n",
      "_________________________________________________________________\n",
      "dense_2 (Dense)              (None, 16)                1360      \n",
      "=================================================================\n",
      "Total params: 1,697,298\n",
      "Trainable params: 1,697,298\n",
      "Non-trainable params: 0\n",
      "_________________________________________________________________\n"
     ]
    }
   ],
   "source": [
    "# loading best model's weights from a file\n",
    "\n",
    "best_model = build_model(models[\"lenet_like\"])\n",
    "best_model.load_weights(\"data/results/lenet_like.h5py\")\n",
    "best_model.compile(loss=\"categorical_crossentropy\",\n",
    "               optimizer=\"adam\", \n",
    "               metrics=[\"categorical_accuracy\"])"
   ]
  },
  {
   "cell_type": "code",
   "execution_count": 21,
   "metadata": {
    "colab": {
     "base_uri": "https://localhost:8080/",
     "height": 68
    },
    "colab_type": "code",
    "collapsed": false,
    "id": "EU3dIeZBN--j",
    "outputId": "dac8ec31-212e-4e72-8e09-f2a19e60da54"
   },
   "outputs": [
    {
     "name": "stderr",
     "output_type": "stream",
     "text": [
      "/usr/local/lib/python3.6/dist-packages/keras/utils/data_utils.py:651: DeprecationWarning: `wait_time` is not used anymore.\n",
      "  DeprecationWarning)\n"
     ]
    },
    {
     "data": {
      "text/plain": [
       "0.0625"
      ]
     },
     "execution_count": 21,
     "metadata": {
      "tags": []
     },
     "output_type": "execute_result"
    }
   ],
   "source": [
    "# getting accuracy on the test set\n",
    "best_model.evaluate_generator(generator=test_flow,\n",
    "                                   steps=16)[1]"
   ]
  },
  {
   "cell_type": "code",
   "execution_count": 0,
   "metadata": {
    "colab": {},
    "colab_type": "code",
    "collapsed": true,
    "id": "8vWYopwFvBdw"
   },
   "outputs": [],
   "source": [
    "def predict_on_test(model):\n",
    "    '''Function to generate predictions for images from the test set'''\n",
    "    test_flow.reset()\n",
    "    # generating predictions as probability of belonging to each class\n",
    "    pred=model.predict_generator(test_flow,steps=16)\n",
    "    # getting the class with the highest probability\n",
    "    predicted_class_indices=np.argmax(pred,axis=1)\n",
    "    # generating a dict of classes and their names\n",
    "    labels = train_flow.class_indices\n",
    "    labels = dict((v,k) for k,v in labels.items())\n",
    "    # generating names of predicted classes\n",
    "    predictions = [labels[k] for k in predicted_class_indices]\n",
    "    # taking names of files from test set to compare them with the predicted classes\n",
    "    filenames=test_flow.filenames\n",
    "    results=pd.DataFrame({\"Filename\":filenames,\n",
    "                        \"Predictions\":predictions})\n",
    "    return results"
   ]
  },
  {
   "cell_type": "code",
   "execution_count": 25,
   "metadata": {
    "colab": {
     "base_uri": "https://localhost:8080/",
     "height": 579
    },
    "colab_type": "code",
    "collapsed": false,
    "id": "nsxvODUQvPoj",
    "outputId": "4b9846ce-0273-40f8-e8cf-2b0ea347db9f"
   },
   "outputs": [
    {
     "name": "stderr",
     "output_type": "stream",
     "text": [
      "/usr/local/lib/python3.6/dist-packages/keras/utils/data_utils.py:651: DeprecationWarning: `wait_time` is not used anymore.\n",
      "  DeprecationWarning)\n"
     ]
    },
    {
     "data": {
      "text/html": [
       "<div>\n",
       "<style scoped>\n",
       "    .dataframe tbody tr th:only-of-type {\n",
       "        vertical-align: middle;\n",
       "    }\n",
       "\n",
       "    .dataframe tbody tr th {\n",
       "        vertical-align: top;\n",
       "    }\n",
       "\n",
       "    .dataframe thead th {\n",
       "        text-align: right;\n",
       "    }\n",
       "</style>\n",
       "<table border=\"1\" class=\"dataframe\">\n",
       "  <thead>\n",
       "    <tr style=\"text-align: right;\">\n",
       "      <th></th>\n",
       "      <th>Filename</th>\n",
       "      <th>Predictions</th>\n",
       "    </tr>\n",
       "  </thead>\n",
       "  <tbody>\n",
       "    <tr>\n",
       "      <th>0</th>\n",
       "      <td>Bush 3M friction with Cross axle/Bush 3M fric...</td>\n",
       "      <td>Brick 2x2</td>\n",
       "    </tr>\n",
       "    <tr>\n",
       "      <th>1</th>\n",
       "      <td>Cross Axle 2M with Snap friction/Cross Axle 2...</td>\n",
       "      <td>Brick 2x2</td>\n",
       "    </tr>\n",
       "    <tr>\n",
       "      <th>2</th>\n",
       "      <td>half Bush/half Bush.jpg</td>\n",
       "      <td>Brick 2x2</td>\n",
       "    </tr>\n",
       "    <tr>\n",
       "      <th>3</th>\n",
       "      <td>Brick 1x1/Brick 1x1.jpg</td>\n",
       "      <td>Bush 3M friction with Cross axle</td>\n",
       "    </tr>\n",
       "    <tr>\n",
       "      <th>4</th>\n",
       "      <td>Brick 1x2/Brick 1x2.jpg</td>\n",
       "      <td>Brick 2x2</td>\n",
       "    </tr>\n",
       "    <tr>\n",
       "      <th>5</th>\n",
       "      <td>Brick 2x2/Brick 2x2.jpg</td>\n",
       "      <td>Brick 2x2</td>\n",
       "    </tr>\n",
       "    <tr>\n",
       "      <th>6</th>\n",
       "      <td>Brick corner 1x2x2/Brick corner 1x2x2.jpg</td>\n",
       "      <td>Brick 2x2</td>\n",
       "    </tr>\n",
       "    <tr>\n",
       "      <th>7</th>\n",
       "      <td>Bush for Cross Axle/Bush for Cross Axle.jpeg</td>\n",
       "      <td>Brick corner 1x2x2</td>\n",
       "    </tr>\n",
       "    <tr>\n",
       "      <th>8</th>\n",
       "      <td>Flat Tile 1x2/Flat Tile 1x2.jpg</td>\n",
       "      <td>Brick 2x2</td>\n",
       "    </tr>\n",
       "    <tr>\n",
       "      <th>9</th>\n",
       "      <td>Peg 2M/Peg 2M.jpg</td>\n",
       "      <td>Brick corner 1x2x2</td>\n",
       "    </tr>\n",
       "    <tr>\n",
       "      <th>10</th>\n",
       "      <td>Plate 1X2 with 1 Knob/Plate 1X2 with 1 Knob.jpg</td>\n",
       "      <td>Brick 2x2</td>\n",
       "    </tr>\n",
       "    <tr>\n",
       "      <th>11</th>\n",
       "      <td>Plate 1x1/Plate 1x1.jpg</td>\n",
       "      <td>Brick 2x2</td>\n",
       "    </tr>\n",
       "    <tr>\n",
       "      <th>12</th>\n",
       "      <td>Plate 1x2/Plate 1x2.jpg</td>\n",
       "      <td>Brick 2x2</td>\n",
       "    </tr>\n",
       "    <tr>\n",
       "      <th>13</th>\n",
       "      <td>Plate 2x2/Plate 2x2.jpg</td>\n",
       "      <td>Roof Tile 1x2x45deg</td>\n",
       "    </tr>\n",
       "    <tr>\n",
       "      <th>14</th>\n",
       "      <td>Roof Tile 1x2x45deg/Roof Tile 1x2x45deg.jpg</td>\n",
       "      <td>Brick corner 1x2x2</td>\n",
       "    </tr>\n",
       "    <tr>\n",
       "      <th>15</th>\n",
       "      <td>Technic Lever 3M/Technic Lever 3M.jpg</td>\n",
       "      <td>Brick 2x2</td>\n",
       "    </tr>\n",
       "  </tbody>\n",
       "</table>\n",
       "</div>"
      ],
      "text/plain": [
       "                                             Filename  \\\n",
       "0    Bush 3M friction with Cross axle/Bush 3M fric...   \n",
       "1    Cross Axle 2M with Snap friction/Cross Axle 2...   \n",
       "2                             half Bush/half Bush.jpg   \n",
       "3                             Brick 1x1/Brick 1x1.jpg   \n",
       "4                             Brick 1x2/Brick 1x2.jpg   \n",
       "5                             Brick 2x2/Brick 2x2.jpg   \n",
       "6           Brick corner 1x2x2/Brick corner 1x2x2.jpg   \n",
       "7        Bush for Cross Axle/Bush for Cross Axle.jpeg   \n",
       "8                     Flat Tile 1x2/Flat Tile 1x2.jpg   \n",
       "9                                   Peg 2M/Peg 2M.jpg   \n",
       "10    Plate 1X2 with 1 Knob/Plate 1X2 with 1 Knob.jpg   \n",
       "11                            Plate 1x1/Plate 1x1.jpg   \n",
       "12                            Plate 1x2/Plate 1x2.jpg   \n",
       "13                            Plate 2x2/Plate 2x2.jpg   \n",
       "14        Roof Tile 1x2x45deg/Roof Tile 1x2x45deg.jpg   \n",
       "15              Technic Lever 3M/Technic Lever 3M.jpg   \n",
       "\n",
       "                          Predictions  \n",
       "0                           Brick 2x2  \n",
       "1                           Brick 2x2  \n",
       "2                           Brick 2x2  \n",
       "3    Bush 3M friction with Cross axle  \n",
       "4                           Brick 2x2  \n",
       "5                           Brick 2x2  \n",
       "6                           Brick 2x2  \n",
       "7                  Brick corner 1x2x2  \n",
       "8                           Brick 2x2  \n",
       "9                  Brick corner 1x2x2  \n",
       "10                          Brick 2x2  \n",
       "11                          Brick 2x2  \n",
       "12                          Brick 2x2  \n",
       "13                Roof Tile 1x2x45deg  \n",
       "14                 Brick corner 1x2x2  \n",
       "15                          Brick 2x2  "
      ]
     },
     "execution_count": 25,
     "metadata": {
      "tags": []
     },
     "output_type": "execute_result"
    }
   ],
   "source": [
    "predict_on_test(best_model)"
   ]
  },
  {
   "cell_type": "markdown",
   "metadata": {
    "colab_type": "text",
    "id": "zyScHhIvZA7y"
   },
   "source": [
    "The model performed very poorly on the test set. I think the main problem is the difference in colour between train and validation images which are greyscale in RGBA and test images which are in colour in RGB. Greyscale in RGBA was achieved by taking the average value of RGB channels so they are almost identical, whereas in colourful pictures their values vary. Moreover, train and validation pictures have black background (which is invisible because of the alpha channel) but the backroud in test pictures is white. I will try 2 solutions:\n",
    "\n",
    "\n",
    "\n",
    "1.   Best one: **augment train images in terms of colour. **Unfortunately, ImageDataGenerator's parameter channel_shift_range is not exactly what I need as it intensifies or bleaks existing palette of colours and doesn't change them completely (this \"gentle\" behaviour started in Keras 2.2.0, earlier it was more extreme: https://github.com/keras-team/keras-preprocessing/issues/17). It will be best to write a custom function basing on the old behavour of that parameter, however as for now I will go for training one more network adding channel_shift_range to augmentation generator.\n",
    "\n",
    "2. **Transform test images so that they are also RGBA in inverted greyscale** (black background with high transparency).\n",
    "\n"
   ]
  },
  {
   "cell_type": "code",
   "execution_count": 31,
   "metadata": {
    "colab": {
     "base_uri": "https://localhost:8080/",
     "height": 51
    },
    "colab_type": "code",
    "collapsed": false,
    "id": "6ApgEatVKlwj",
    "outputId": "9f980ebc-413e-4ec1-b776-aaf37ddb7437"
   },
   "outputs": [
    {
     "name": "stderr",
     "output_type": "stream",
     "text": [
      "/usr/local/lib/python3.6/dist-packages/keras/preprocessing/image.py:440: DeprecationWarning: inspect.getargspec() is deprecated, use inspect.signature() or inspect.getfullargspec()\n",
      "  image.ImageDataGenerator.__init__).args:\n"
     ]
    }
   ],
   "source": [
    "# data augmentation for train images with channel_shift_range\n",
    "train_generator = ImageDataGenerator(rescale=1./255,\n",
    "                                     zoom_range=0.2,\n",
    "                                     brightness_range=[0.5,1.5],\n",
    "                                     channel_shift_range = 0.99)"
   ]
  },
  {
   "cell_type": "code",
   "execution_count": 0,
   "metadata": {
    "colab": {},
    "colab_type": "code",
    "collapsed": true,
    "id": "rmDX-9j4JjVO"
   },
   "outputs": [],
   "source": [
    "models = {\n",
    "            \"my_net\":              [Conv2D(6,(5,5),activation=\"relu\",padding=\"same\", input_shape=img_array.shape),\n",
    "                                   MaxPooling2D((2,2)),\n",
    "                                   Conv2D(16,(5,5),activation=\"relu\",padding=\"same\"),\n",
    "                                   MaxPooling2D((2,2)),\n",
    "                                   Conv2D(32,(5,5),activation=\"relu\",padding=\"same\"),\n",
    "                                   MaxPooling2D((2,2)),\n",
    "                                   Conv2D(32,(5,5),activation=\"relu\",padding=\"same\"),\n",
    "                                   MaxPooling2D((2,2)),\n",
    "                                   Flatten(),\n",
    "                                   Dense(96,activation=\"relu\"),\n",
    "                                   Dropout(0.5),\n",
    "                                   Dense(64,activation=\"relu\"),\n",
    "                                   Dropout(0.5),\n",
    "                                   Dense(16,activation=\"softmax\")]\n",
    "}"
   ]
  },
  {
   "cell_type": "code",
   "execution_count": 37,
   "metadata": {
    "colab": {
     "base_uri": "https://localhost:8080/",
     "height": 986
    },
    "colab_type": "code",
    "collapsed": false,
    "id": "EWntl6mIJ9TY",
    "outputId": "d90e568a-8eb6-421f-d386-c4d577a4669a"
   },
   "outputs": [
    {
     "name": "stdout",
     "output_type": "stream",
     "text": [
      "_________________________________________________________________\n",
      "Layer (type)                 Output Shape              Param #   \n",
      "=================================================================\n",
      "conv2d_21 (Conv2D)           (None, 200, 200, 6)       606       \n",
      "_________________________________________________________________\n",
      "max_pooling2d_17 (MaxPooling (None, 100, 100, 6)       0         \n",
      "_________________________________________________________________\n",
      "conv2d_22 (Conv2D)           (None, 100, 100, 16)      2416      \n",
      "_________________________________________________________________\n",
      "max_pooling2d_18 (MaxPooling (None, 50, 50, 16)        0         \n",
      "_________________________________________________________________\n",
      "conv2d_23 (Conv2D)           (None, 50, 50, 32)        12832     \n",
      "_________________________________________________________________\n",
      "max_pooling2d_19 (MaxPooling (None, 25, 25, 32)        0         \n",
      "_________________________________________________________________\n",
      "conv2d_24 (Conv2D)           (None, 25, 25, 32)        25632     \n",
      "_________________________________________________________________\n",
      "max_pooling2d_20 (MaxPooling (None, 12, 12, 32)        0         \n",
      "_________________________________________________________________\n",
      "flatten_7 (Flatten)          (None, 4608)              0         \n",
      "_________________________________________________________________\n",
      "dense_15 (Dense)             (None, 96)                442464    \n",
      "_________________________________________________________________\n",
      "dropout_3 (Dropout)          (None, 96)                0         \n",
      "_________________________________________________________________\n",
      "dense_16 (Dense)             (None, 64)                6208      \n",
      "_________________________________________________________________\n",
      "dropout_4 (Dropout)          (None, 64)                0         \n",
      "_________________________________________________________________\n",
      "dense_17 (Dense)             (None, 16)                1040      \n",
      "=================================================================\n",
      "Total params: 491,198\n",
      "Trainable params: 491,198\n",
      "Non-trainable params: 0\n",
      "_________________________________________________________________\n"
     ]
    },
    {
     "name": "stderr",
     "output_type": "stream",
     "text": [
      "/usr/local/lib/python3.6/dist-packages/keras/utils/data_utils.py:651: DeprecationWarning: `wait_time` is not used anymore.\n",
      "  DeprecationWarning)\n"
     ]
    },
    {
     "name": "stdout",
     "output_type": "stream",
     "text": [
      "Epoch 1/50\n",
      "278/278 [==============================] - 69s 247ms/step - loss: 0.6302 - categorical_accuracy: 0.7714 - val_loss: 0.6068 - val_categorical_accuracy: 0.7714\n",
      "Epoch 2/50\n",
      "278/278 [==============================] - 66s 236ms/step - loss: 0.5899 - categorical_accuracy: 0.7806 - val_loss: 0.5311 - val_categorical_accuracy: 0.7885\n",
      "Epoch 3/50\n",
      "278/278 [==============================] - 65s 233ms/step - loss: 0.6068 - categorical_accuracy: 0.7695 - val_loss: 0.3490 - val_categorical_accuracy: 0.8510\n",
      "Epoch 4/50\n",
      "278/278 [==============================] - 66s 238ms/step - loss: 0.5716 - categorical_accuracy: 0.7858 - val_loss: 0.3347 - val_categorical_accuracy: 0.8615\n",
      "Epoch 5/50\n",
      "278/278 [==============================] - 66s 239ms/step - loss: 0.5595 - categorical_accuracy: 0.7851 - val_loss: 0.4806 - val_categorical_accuracy: 0.8193\n",
      "Epoch 6/50\n",
      "278/278 [==============================] - 63s 228ms/step - loss: 0.5723 - categorical_accuracy: 0.7879 - val_loss: 0.4090 - val_categorical_accuracy: 0.8406\n",
      "Epoch 7/50\n",
      "278/278 [==============================] - 65s 234ms/step - loss: 0.5389 - categorical_accuracy: 0.8022 - val_loss: 0.4167 - val_categorical_accuracy: 0.8406\n",
      "Epoch 8/50\n",
      "278/278 [==============================] - 66s 238ms/step - loss: 0.5450 - categorical_accuracy: 0.8027 - val_loss: 0.6695 - val_categorical_accuracy: 0.7641\n",
      "Epoch 9/50\n",
      "278/278 [==============================] - 64s 231ms/step - loss: 0.5412 - categorical_accuracy: 0.8045 - val_loss: 0.5698 - val_categorical_accuracy: 0.7797\n"
     ]
    },
    {
     "name": "stderr",
     "output_type": "stream",
     "text": [
      "/usr/local/lib/python3.6/dist-packages/keras/utils/data_utils.py:651: DeprecationWarning: `wait_time` is not used anymore.\n",
      "  DeprecationWarning)\n"
     ]
    }
   ],
   "source": [
    "for model, params in models.items():\n",
    "    acc = (evaluate_model(build_model(params), model))"
   ]
  },
  {
   "cell_type": "code",
   "execution_count": 0,
   "metadata": {
    "colab": {},
    "colab_type": "code",
    "collapsed": true,
    "id": "vltN-50AuPQa"
   },
   "outputs": [],
   "source": [
    "# printing accuracy of models\n",
    "model_results = pd.DataFrame(list(zip(models.keys(), lst_acc)), columns=[\"model\", \"accuracy\"]).sort_values(by=\"accuracy\", ascending=False).reset_index(drop=True)"
   ]
  },
  {
   "cell_type": "code",
   "execution_count": 39,
   "metadata": {
    "colab": {
     "base_uri": "https://localhost:8080/",
     "height": 80
    },
    "colab_type": "code",
    "collapsed": false,
    "id": "1bCOOFI2uR-d",
    "outputId": "c80aca0e-1bf9-4800-e166-26b9a7094105"
   },
   "outputs": [
    {
     "data": {
      "text/html": [
       "<div>\n",
       "<style scoped>\n",
       "    .dataframe tbody tr th:only-of-type {\n",
       "        vertical-align: middle;\n",
       "    }\n",
       "\n",
       "    .dataframe tbody tr th {\n",
       "        vertical-align: top;\n",
       "    }\n",
       "\n",
       "    .dataframe thead th {\n",
       "        text-align: right;\n",
       "    }\n",
       "</style>\n",
       "<table border=\"1\" class=\"dataframe\">\n",
       "  <thead>\n",
       "    <tr style=\"text-align: right;\">\n",
       "      <th></th>\n",
       "      <th>model</th>\n",
       "      <th>accuracy</th>\n",
       "    </tr>\n",
       "  </thead>\n",
       "  <tbody>\n",
       "    <tr>\n",
       "      <th>0</th>\n",
       "      <td>my_net</td>\n",
       "      <td>0.861979</td>\n",
       "    </tr>\n",
       "  </tbody>\n",
       "</table>\n",
       "</div>"
      ],
      "text/plain": [
       "    model  accuracy\n",
       "0  my_net  0.861979"
      ]
     },
     "execution_count": 39,
     "metadata": {
      "tags": []
     },
     "output_type": "execute_result"
    }
   ],
   "source": [
    "model_results"
   ]
  },
  {
   "cell_type": "markdown",
   "metadata": {
    "colab_type": "text",
    "id": "B4HpTbthuYGQ"
   },
   "source": [
    "The accuracy of the model is slightly lower but maybe it will generalize better - let's check"
   ]
  },
  {
   "cell_type": "code",
   "execution_count": 24,
   "metadata": {
    "colab": {
     "base_uri": "https://localhost:8080/",
     "height": 717
    },
    "colab_type": "code",
    "collapsed": false,
    "id": "evrpbfhDwKIX",
    "outputId": "de34d81b-c866-4912-983a-d91882912ada"
   },
   "outputs": [
    {
     "name": "stdout",
     "output_type": "stream",
     "text": [
      "WARNING:tensorflow:From /usr/local/lib/python3.6/dist-packages/keras/backend/tensorflow_backend.py:3445: calling dropout (from tensorflow.python.ops.nn_ops) with keep_prob is deprecated and will be removed in a future version.\n",
      "Instructions for updating:\n",
      "Please use `rate` instead of `keep_prob`. Rate should be set to `rate = 1 - keep_prob`.\n"
     ]
    },
    {
     "name": "stderr",
     "output_type": "stream",
     "text": [
      "/usr/local/lib/python3.6/dist-packages/numpy/lib/type_check.py:546: DeprecationWarning: np.asscalar(a) is deprecated since NumPy v1.16, use a.item() instead\n",
      "  'a.item() instead', DeprecationWarning, stacklevel=1)\n"
     ]
    },
    {
     "name": "stdout",
     "output_type": "stream",
     "text": [
      "_________________________________________________________________\n",
      "Layer (type)                 Output Shape              Param #   \n",
      "=================================================================\n",
      "conv2d_11 (Conv2D)           (None, 200, 200, 6)       606       \n",
      "_________________________________________________________________\n",
      "max_pooling2d_9 (MaxPooling2 (None, 100, 100, 6)       0         \n",
      "_________________________________________________________________\n",
      "conv2d_12 (Conv2D)           (None, 100, 100, 16)      2416      \n",
      "_________________________________________________________________\n",
      "max_pooling2d_10 (MaxPooling (None, 50, 50, 16)        0         \n",
      "_________________________________________________________________\n",
      "conv2d_13 (Conv2D)           (None, 50, 50, 32)        12832     \n",
      "_________________________________________________________________\n",
      "max_pooling2d_11 (MaxPooling (None, 25, 25, 32)        0         \n",
      "_________________________________________________________________\n",
      "conv2d_14 (Conv2D)           (None, 25, 25, 32)        25632     \n",
      "_________________________________________________________________\n",
      "max_pooling2d_12 (MaxPooling (None, 12, 12, 32)        0         \n",
      "_________________________________________________________________\n",
      "flatten_4 (Flatten)          (None, 4608)              0         \n",
      "_________________________________________________________________\n",
      "dense_8 (Dense)              (None, 96)                442464    \n",
      "_________________________________________________________________\n",
      "dropout_2 (Dropout)          (None, 96)                0         \n",
      "_________________________________________________________________\n",
      "dense_9 (Dense)              (None, 64)                6208      \n",
      "_________________________________________________________________\n",
      "dropout_3 (Dropout)          (None, 64)                0         \n",
      "_________________________________________________________________\n",
      "dense_10 (Dense)             (None, 16)                1040      \n",
      "=================================================================\n",
      "Total params: 491,198\n",
      "Trainable params: 491,198\n",
      "Non-trainable params: 0\n",
      "_________________________________________________________________\n"
     ]
    }
   ],
   "source": [
    "# loading new model's weights from a file\n",
    "\n",
    "new_model = build_model(models[\"my_net\"])\n",
    "new_model.load_weights(\"data/results/my_net.h5py\")\n",
    "new_model.compile(loss=\"categorical_crossentropy\",\n",
    "               optimizer=\"adam\", \n",
    "               metrics=[\"categorical_accuracy\"])"
   ]
  },
  {
   "cell_type": "code",
   "execution_count": 28,
   "metadata": {
    "colab": {
     "base_uri": "https://localhost:8080/",
     "height": 68
    },
    "colab_type": "code",
    "collapsed": false,
    "id": "cuvxOzC5bs26",
    "outputId": "250b6724-a6ab-46ec-d091-2ecc5f30c073"
   },
   "outputs": [
    {
     "name": "stderr",
     "output_type": "stream",
     "text": [
      "/usr/local/lib/python3.6/dist-packages/keras/utils/data_utils.py:651: DeprecationWarning: `wait_time` is not used anymore.\n",
      "  DeprecationWarning)\n"
     ]
    },
    {
     "data": {
      "text/plain": [
       "0.0625"
      ]
     },
     "execution_count": 28,
     "metadata": {
      "tags": []
     },
     "output_type": "execute_result"
    }
   ],
   "source": [
    "# getting accuracy on the test set\n",
    "best_model.evaluate_generator(generator=test_flow,\n",
    "                                   steps=16)[1]"
   ]
  },
  {
   "cell_type": "code",
   "execution_count": 27,
   "metadata": {
    "colab": {
     "base_uri": "https://localhost:8080/",
     "height": 579
    },
    "colab_type": "code",
    "collapsed": false,
    "id": "ZHM7CPrNw3Xj",
    "outputId": "e5418d4a-0578-4701-d9ea-cda2d6f70b98"
   },
   "outputs": [
    {
     "name": "stderr",
     "output_type": "stream",
     "text": [
      "/usr/local/lib/python3.6/dist-packages/keras/utils/data_utils.py:651: DeprecationWarning: `wait_time` is not used anymore.\n",
      "  DeprecationWarning)\n"
     ]
    },
    {
     "data": {
      "text/html": [
       "<div>\n",
       "<style scoped>\n",
       "    .dataframe tbody tr th:only-of-type {\n",
       "        vertical-align: middle;\n",
       "    }\n",
       "\n",
       "    .dataframe tbody tr th {\n",
       "        vertical-align: top;\n",
       "    }\n",
       "\n",
       "    .dataframe thead th {\n",
       "        text-align: right;\n",
       "    }\n",
       "</style>\n",
       "<table border=\"1\" class=\"dataframe\">\n",
       "  <thead>\n",
       "    <tr style=\"text-align: right;\">\n",
       "      <th></th>\n",
       "      <th>Filename</th>\n",
       "      <th>Predictions</th>\n",
       "    </tr>\n",
       "  </thead>\n",
       "  <tbody>\n",
       "    <tr>\n",
       "      <th>0</th>\n",
       "      <td>Bush 3M friction with Cross axle/Bush 3M fric...</td>\n",
       "      <td>Brick 2x2</td>\n",
       "    </tr>\n",
       "    <tr>\n",
       "      <th>1</th>\n",
       "      <td>Cross Axle 2M with Snap friction/Cross Axle 2...</td>\n",
       "      <td>Brick 2x2</td>\n",
       "    </tr>\n",
       "    <tr>\n",
       "      <th>2</th>\n",
       "      <td>half Bush/half Bush.jpg</td>\n",
       "      <td>Brick 2x2</td>\n",
       "    </tr>\n",
       "    <tr>\n",
       "      <th>3</th>\n",
       "      <td>Brick 1x1/Brick 1x1.jpg</td>\n",
       "      <td>Brick 2x2</td>\n",
       "    </tr>\n",
       "    <tr>\n",
       "      <th>4</th>\n",
       "      <td>Brick 1x2/Brick 1x2.jpg</td>\n",
       "      <td>Brick 2x2</td>\n",
       "    </tr>\n",
       "    <tr>\n",
       "      <th>5</th>\n",
       "      <td>Brick 2x2/Brick 2x2.jpg</td>\n",
       "      <td>Brick 2x2</td>\n",
       "    </tr>\n",
       "    <tr>\n",
       "      <th>6</th>\n",
       "      <td>Brick corner 1x2x2/Brick corner 1x2x2.jpg</td>\n",
       "      <td>Brick 2x2</td>\n",
       "    </tr>\n",
       "    <tr>\n",
       "      <th>7</th>\n",
       "      <td>Bush for Cross Axle/Bush for Cross Axle.jpeg</td>\n",
       "      <td>Brick 2x2</td>\n",
       "    </tr>\n",
       "    <tr>\n",
       "      <th>8</th>\n",
       "      <td>Flat Tile 1x2/Flat Tile 1x2.jpg</td>\n",
       "      <td>Brick 2x2</td>\n",
       "    </tr>\n",
       "    <tr>\n",
       "      <th>9</th>\n",
       "      <td>Peg 2M/Peg 2M.jpg</td>\n",
       "      <td>Brick 2x2</td>\n",
       "    </tr>\n",
       "    <tr>\n",
       "      <th>10</th>\n",
       "      <td>Plate 1X2 with 1 Knob/Plate 1X2 with 1 Knob.jpg</td>\n",
       "      <td>Brick 2x2</td>\n",
       "    </tr>\n",
       "    <tr>\n",
       "      <th>11</th>\n",
       "      <td>Plate 1x1/Plate 1x1.jpg</td>\n",
       "      <td>Brick 2x2</td>\n",
       "    </tr>\n",
       "    <tr>\n",
       "      <th>12</th>\n",
       "      <td>Plate 1x2/Plate 1x2.jpg</td>\n",
       "      <td>Brick 2x2</td>\n",
       "    </tr>\n",
       "    <tr>\n",
       "      <th>13</th>\n",
       "      <td>Plate 2x2/Plate 2x2.jpg</td>\n",
       "      <td>Brick 2x2</td>\n",
       "    </tr>\n",
       "    <tr>\n",
       "      <th>14</th>\n",
       "      <td>Roof Tile 1x2x45deg/Roof Tile 1x2x45deg.jpg</td>\n",
       "      <td>Brick 2x2</td>\n",
       "    </tr>\n",
       "    <tr>\n",
       "      <th>15</th>\n",
       "      <td>Technic Lever 3M/Technic Lever 3M.jpg</td>\n",
       "      <td>Brick 2x2</td>\n",
       "    </tr>\n",
       "  </tbody>\n",
       "</table>\n",
       "</div>"
      ],
      "text/plain": [
       "                                             Filename Predictions\n",
       "0    Bush 3M friction with Cross axle/Bush 3M fric...   Brick 2x2\n",
       "1    Cross Axle 2M with Snap friction/Cross Axle 2...   Brick 2x2\n",
       "2                             half Bush/half Bush.jpg   Brick 2x2\n",
       "3                             Brick 1x1/Brick 1x1.jpg   Brick 2x2\n",
       "4                             Brick 1x2/Brick 1x2.jpg   Brick 2x2\n",
       "5                             Brick 2x2/Brick 2x2.jpg   Brick 2x2\n",
       "6           Brick corner 1x2x2/Brick corner 1x2x2.jpg   Brick 2x2\n",
       "7        Bush for Cross Axle/Bush for Cross Axle.jpeg   Brick 2x2\n",
       "8                     Flat Tile 1x2/Flat Tile 1x2.jpg   Brick 2x2\n",
       "9                                   Peg 2M/Peg 2M.jpg   Brick 2x2\n",
       "10    Plate 1X2 with 1 Knob/Plate 1X2 with 1 Knob.jpg   Brick 2x2\n",
       "11                            Plate 1x1/Plate 1x1.jpg   Brick 2x2\n",
       "12                            Plate 1x2/Plate 1x2.jpg   Brick 2x2\n",
       "13                            Plate 2x2/Plate 2x2.jpg   Brick 2x2\n",
       "14        Roof Tile 1x2x45deg/Roof Tile 1x2x45deg.jpg   Brick 2x2\n",
       "15              Technic Lever 3M/Technic Lever 3M.jpg   Brick 2x2"
      ]
     },
     "execution_count": 27,
     "metadata": {
      "tags": []
     },
     "output_type": "execute_result"
    }
   ],
   "source": [
    "predict_on_test(new_model)"
   ]
  },
  {
   "cell_type": "markdown",
   "metadata": {
    "colab_type": "text",
    "id": "9rJZRSpXxDGD"
   },
   "source": [
    "Unfortunately, this augmentation, didn't help at all. So I will try second solution and transform the test images so that they are greyscale and with alpha channel."
   ]
  },
  {
   "cell_type": "code",
   "execution_count": 0,
   "metadata": {
    "colab": {},
    "colab_type": "code",
    "collapsed": true,
    "id": "WGyFTFr4kZGi"
   },
   "outputs": [],
   "source": [
    "def rgb_to_grayscale_inverted(img):\n",
    "    '''Function turning RGB images to grayscale by averaging rgb channels and inverting values (whitish becomes blackish).'''\n",
    "    x = np.array(img)\n",
    "    mean_channels = x[:, :, :3].mean(axis=2)\n",
    "    x[:, :, 0] = (255-mean_channels).astype(np.uint8)\n",
    "    x[:, :, 1] = (255-mean_channels).astype(np.uint8)\n",
    "    x[:, :, 2] = (255-mean_channels).astype(np.uint8)\n",
    "    return Image.fromarray(x)"
   ]
  },
  {
   "cell_type": "code",
   "execution_count": 0,
   "metadata": {
    "colab": {},
    "colab_type": "code",
    "collapsed": true,
    "id": "M9s1c3f2yvto"
   },
   "outputs": [],
   "source": [
    "def black_to_transparent(img):\n",
    "    '''Function adding aplpha channel to RGB images so that the lower the mean value of pixel \n",
    "    (the more blackish it is) the more transparent it becomes.'''\n",
    "    x = np.array(img.convert('RGBA')).copy()\n",
    "    x[:, :, 3] = (x[:, :, :3].mean(axis=2)).astype(np.uint8)\n",
    "    return Image.fromarray(x)"
   ]
  },
  {
   "cell_type": "code",
   "execution_count": 0,
   "metadata": {
    "colab": {},
    "colab_type": "code",
    "collapsed": true,
    "id": "yC1H8URkrypB"
   },
   "outputs": [],
   "source": [
    "# loading, transforming and saving back test images\n",
    "\n",
    "list_of_images_filenames = os.listdir(os.path.join(test_data_dir, \"test_1/\"))\n",
    "\n",
    "for file in list_of_images_filenames:\n",
    "    img = Image.open(os.path.join(test_data_dir, \"test_1/\", file))\n",
    "    img = img.resize((200,200))\n",
    "    img_gray = rgb_to_grayscale_inverted(img)\n",
    "    img_rgba = black_to_transparent(img_gray)\n",
    "    img_rgba.save(os.path.join(test_data_dir, \"test_1/\", file), \"png\")"
   ]
  },
  {
   "cell_type": "code",
   "execution_count": 82,
   "metadata": {
    "colab": {
     "base_uri": "https://localhost:8080/",
     "height": 579
    },
    "colab_type": "code",
    "collapsed": false,
    "id": "SB1JQzjJyudi",
    "outputId": "63372480-a89c-4f52-cd83-96b955f4d4da"
   },
   "outputs": [
    {
     "name": "stderr",
     "output_type": "stream",
     "text": [
      "/usr/local/lib/python3.6/dist-packages/keras/utils/data_utils.py:651: DeprecationWarning: `wait_time` is not used anymore.\n",
      "  DeprecationWarning)\n"
     ]
    },
    {
     "data": {
      "text/html": [
       "<div>\n",
       "<style scoped>\n",
       "    .dataframe tbody tr th:only-of-type {\n",
       "        vertical-align: middle;\n",
       "    }\n",
       "\n",
       "    .dataframe tbody tr th {\n",
       "        vertical-align: top;\n",
       "    }\n",
       "\n",
       "    .dataframe thead th {\n",
       "        text-align: right;\n",
       "    }\n",
       "</style>\n",
       "<table border=\"1\" class=\"dataframe\">\n",
       "  <thead>\n",
       "    <tr style=\"text-align: right;\">\n",
       "      <th></th>\n",
       "      <th>Filename</th>\n",
       "      <th>Predictions</th>\n",
       "    </tr>\n",
       "  </thead>\n",
       "  <tbody>\n",
       "    <tr>\n",
       "      <th>0</th>\n",
       "      <td>test_1/Brick 1x1.jpg</td>\n",
       "      <td>Bush for Cross Axle</td>\n",
       "    </tr>\n",
       "    <tr>\n",
       "      <th>1</th>\n",
       "      <td>test_1/Brick 1x2.jpg</td>\n",
       "      <td>Brick corner 1x2x2</td>\n",
       "    </tr>\n",
       "    <tr>\n",
       "      <th>2</th>\n",
       "      <td>test_1/Brick 2x2.jpg</td>\n",
       "      <td>Brick 2x2</td>\n",
       "    </tr>\n",
       "    <tr>\n",
       "      <th>3</th>\n",
       "      <td>test_1/Brick corner 1x2x2.jpg</td>\n",
       "      <td>Brick corner 1x2x2</td>\n",
       "    </tr>\n",
       "    <tr>\n",
       "      <th>4</th>\n",
       "      <td>test_1/Bush 3M friction with Cross axle.jpg</td>\n",
       "      <td>Brick 1x1</td>\n",
       "    </tr>\n",
       "    <tr>\n",
       "      <th>5</th>\n",
       "      <td>test_1/Bush for Cross Axle.jpeg</td>\n",
       "      <td>Brick corner 1x2x2</td>\n",
       "    </tr>\n",
       "    <tr>\n",
       "      <th>6</th>\n",
       "      <td>test_1/Cross Axle 2M with Snap friction.png</td>\n",
       "      <td>Brick 2x2</td>\n",
       "    </tr>\n",
       "    <tr>\n",
       "      <th>7</th>\n",
       "      <td>test_1/Flat Tile 1x2.jpg</td>\n",
       "      <td>Brick 2x2</td>\n",
       "    </tr>\n",
       "    <tr>\n",
       "      <th>8</th>\n",
       "      <td>test_1/Peg 2M.jpg</td>\n",
       "      <td>Brick 2x2</td>\n",
       "    </tr>\n",
       "    <tr>\n",
       "      <th>9</th>\n",
       "      <td>test_1/Plate 1X2 with 1 Knob.jpg</td>\n",
       "      <td>Brick 2x2</td>\n",
       "    </tr>\n",
       "    <tr>\n",
       "      <th>10</th>\n",
       "      <td>test_1/Plate 1x1.jpg</td>\n",
       "      <td>Brick 2x2</td>\n",
       "    </tr>\n",
       "    <tr>\n",
       "      <th>11</th>\n",
       "      <td>test_1/Plate 1x2.jpg</td>\n",
       "      <td>Plate 1x1</td>\n",
       "    </tr>\n",
       "    <tr>\n",
       "      <th>12</th>\n",
       "      <td>test_1/Plate 2x2.jpg</td>\n",
       "      <td>Roof Tile 1x2x45deg</td>\n",
       "    </tr>\n",
       "    <tr>\n",
       "      <th>13</th>\n",
       "      <td>test_1/Roof Tile 1x2x45deg.jpg</td>\n",
       "      <td>half Bush</td>\n",
       "    </tr>\n",
       "    <tr>\n",
       "      <th>14</th>\n",
       "      <td>test_1/Technic Lever 3M.jpg</td>\n",
       "      <td>Brick 2x2</td>\n",
       "    </tr>\n",
       "    <tr>\n",
       "      <th>15</th>\n",
       "      <td>test_1/half Bush.jpg</td>\n",
       "      <td>Brick 2x2</td>\n",
       "    </tr>\n",
       "  </tbody>\n",
       "</table>\n",
       "</div>"
      ],
      "text/plain": [
       "                                       Filename          Predictions\n",
       "0                          test_1/Brick 1x1.jpg  Bush for Cross Axle\n",
       "1                          test_1/Brick 1x2.jpg   Brick corner 1x2x2\n",
       "2                          test_1/Brick 2x2.jpg            Brick 2x2\n",
       "3                 test_1/Brick corner 1x2x2.jpg   Brick corner 1x2x2\n",
       "4   test_1/Bush 3M friction with Cross axle.jpg            Brick 1x1\n",
       "5               test_1/Bush for Cross Axle.jpeg   Brick corner 1x2x2\n",
       "6   test_1/Cross Axle 2M with Snap friction.png            Brick 2x2\n",
       "7                      test_1/Flat Tile 1x2.jpg            Brick 2x2\n",
       "8                             test_1/Peg 2M.jpg            Brick 2x2\n",
       "9              test_1/Plate 1X2 with 1 Knob.jpg            Brick 2x2\n",
       "10                         test_1/Plate 1x1.jpg            Brick 2x2\n",
       "11                         test_1/Plate 1x2.jpg            Plate 1x1\n",
       "12                         test_1/Plate 2x2.jpg  Roof Tile 1x2x45deg\n",
       "13               test_1/Roof Tile 1x2x45deg.jpg            half Bush\n",
       "14                  test_1/Technic Lever 3M.jpg            Brick 2x2\n",
       "15                         test_1/half Bush.jpg            Brick 2x2"
      ]
     },
     "execution_count": 82,
     "metadata": {
      "tags": []
     },
     "output_type": "execute_result"
    }
   ],
   "source": [
    "predict_on_test(best_model)"
   ]
  },
  {
   "cell_type": "markdown",
   "metadata": {
    "colab_type": "text",
    "id": "OB5im9ZA4ts1"
   },
   "source": [
    "There are 2 correct classifications so the result is still poor."
   ]
  },
  {
   "cell_type": "markdown",
   "metadata": {
    "colab_type": "text",
    "id": "SnezMkiCgZJK"
   },
   "source": [
    "# Transfer learning"
   ]
  },
  {
   "cell_type": "markdown",
   "metadata": {
    "colab_type": "text",
    "id": "fV7Fpv_MoVXO"
   },
   "source": [
    "Now I will check if using pre-trained CNN will improve the results. I will use pre-trained Xception as it has a promising accuracy and reasonable size (88 MB). I will use pre-trained Xception as Feature Extractor by taking the activations  before the last fully connected layer of the network. They will be used as features vector for the new fully-connected part, which will act as a classifier.\n",
    "\n",
    "However, an issue emerged: pre-trained networks accept 3-channels input, but my images have 4 channels. There are some algorithms to turn RGBA images into RGB images, but most probably I won't need them in this case as alpha-channel serves mostly to make the otherwise black background transparent. Let's check how an image will look like after simply leaving out the fourth channel."
   ]
  },
  {
   "cell_type": "code",
   "execution_count": 0,
   "metadata": {
    "colab": {
     "base_uri": "https://localhost:8080/",
     "height": 269
    },
    "colab_type": "code",
    "collapsed": false,
    "id": "AB2CFeG-5TC4",
    "outputId": "75eb739a-94ff-435a-c208-9588a10c2b03"
   },
   "outputs": [
    {
     "data": {
      "image/png": "[encoded data removed]",
      "text/plain": [
       "<Figure size 432x288 with 1 Axes>"
      ]
     },
     "metadata": {
      "tags": []
     },
     "output_type": "display_data"
    }
   ],
   "source": [
    "# printing image without 4th channel\n",
    "img_array_1 = img_array[:,:,:3]\n",
    "plt.imshow(img_array_1)\n",
    "plt.show()"
   ]
  },
  {
   "cell_type": "markdown",
   "metadata": {
    "colab_type": "text",
    "id": "2e46nBgh5_ur"
   },
   "source": [
    "The only change is black background instead of transparent. I think CNN can cope with that. Now i need to redefine ImageDataGenerator's flow_from_directory method to account for the change in the number of channels in generated images."
   ]
  },
  {
   "cell_type": "code",
   "execution_count": 0,
   "metadata": {
    "colab": {
     "base_uri": "https://localhost:8080/",
     "height": 85
    },
    "colab_type": "code",
    "collapsed": false,
    "id": "KWxKoj-IApin",
    "outputId": "10d2af10-cb6c-4af7-8011-843f120520ea"
   },
   "outputs": [
    {
     "name": "stdout",
     "output_type": "stream",
     "text": [
      "Found 4459 images belonging to 16 classes.\n",
      "Found 1920 images belonging to 16 classes.\n",
      "Found 1920 images belonging to 16 classes.\n",
      "Found 16 images belonging to 1 classes.\n"
     ]
    }
   ],
   "source": [
    "# invoking flow_from_directory method to generate batches of augmented images \n",
    "\n",
    "batch_size=16\n",
    "h, w = 200, 200\n",
    "\n",
    "train_flow = train_generator.flow_from_directory(\n",
    "    directory=train_data_dir, \n",
    "    target_size=(h,w), color_mode=\"rgb\", class_mode=\"categorical\", shuffle=True, batch_size=batch_size)\n",
    "\n",
    "# I need two instances of validation flow: for fit_generator yielding images in batches \n",
    "# and for evaluation yielding images one by one (treated as test set)\n",
    "\n",
    "validation_flow_fit = validation_generator.flow_from_directory(\n",
    "    directory=validation_data_dir, \n",
    "    target_size=(h,w), color_mode=\"rgb\", class_mode=\"categorical\", shuffle=True, batch_size=batch_size)\n",
    "\n",
    "validation_flow_eval = validation_generator.flow_from_directory(\n",
    "    directory=validation_data_dir, \n",
    "    target_size=(h,w), color_mode=\"rgb\", class_mode=\"categorical\", batch_size=1)\n",
    "\n",
    "test_flow = test_generator.flow_from_directory(\n",
    "    directory=test_data_dir, \n",
    "    target_size=(h,w), color_mode=\"rgb\", class_mode=None, batch_size=1)"
   ]
  },
  {
   "cell_type": "code",
   "execution_count": 0,
   "metadata": {
    "colab": {
     "base_uri": "https://localhost:8080/",
     "height": 343
    },
    "colab_type": "code",
    "collapsed": false,
    "id": "qHw04-Pjq19l",
    "outputId": "0dd81de0-3170-4208-b4de-1a3ffb874678"
   },
   "outputs": [
    {
     "name": "stdout",
     "output_type": "stream",
     "text": [
      "WARNING:tensorflow:From /usr/local/lib/python3.6/dist-packages/tensorflow/python/framework/op_def_library.py:263: colocate_with (from tensorflow.python.framework.ops) is deprecated and will be removed in a future version.\n",
      "Instructions for updating:\n",
      "Colocations handled automatically by placer.\n"
     ]
    },
    {
     "name": "stderr",
     "output_type": "stream",
     "text": [
      "/usr/local/lib/python3.6/dist-packages/numpy/lib/type_check.py:546: DeprecationWarning: np.asscalar(a) is deprecated since NumPy v1.16, use a.item() instead\n",
      "  'a.item() instead', DeprecationWarning, stacklevel=1)\n"
     ]
    },
    {
     "name": "stdout",
     "output_type": "stream",
     "text": [
      "Downloading data from https://github.com/fchollet/deep-learning-models/releases/download/v0.4/xception_weights_tf_dim_ordering_tf_kernels_notop.h5\n",
      "83689472/83683744 [==============================] - 4s 0us/step\n",
      "_________________________________________________________________\n",
      "Layer (type)                 Output Shape              Param #   \n",
      "=================================================================\n",
      "xception (Model)             (None, 7, 7, 2048)        20861480  \n",
      "_________________________________________________________________\n",
      "sequential_1 (Sequential)    (None, 16)                25694480  \n",
      "=================================================================\n",
      "Total params: 46,555,960\n",
      "Trainable params: 25,694,480\n",
      "Non-trainable params: 20,861,480\n",
      "_________________________________________________________________\n"
     ]
    }
   ],
   "source": [
    "# defining base model without top fully-connected layer\n",
    "model = Xception(weights='imagenet',include_top=False,input_shape=(200,200,3))\n",
    "\n",
    "# adding Dense layers for classification\n",
    "top_model = Sequential()\n",
    "top_model.add(Flatten(input_shape=model.output_shape[1:]))\n",
    "top_model.add(Dense(256, activation='relu'))\n",
    "top_model.add(Dense(16, activation='softmax'))\n",
    "\n",
    "# merging base model and new Dense layers\n",
    "model_transfer = Sequential()\n",
    "model_transfer.add(model)\n",
    "model_transfer.add(top_model)\n",
    "\n",
    "# freezing weights in convolutional part\n",
    "model_transfer.layers[0].trainable = False\n",
    "\n",
    "model_transfer.summary()"
   ]
  },
  {
   "cell_type": "code",
   "execution_count": 0,
   "metadata": {
    "colab": {},
    "colab_type": "code",
    "collapsed": true,
    "id": "KUyunBVr-i7T"
   },
   "outputs": [],
   "source": [
    "# compiling model\n",
    "model_transfer.compile(loss=\"categorical_crossentropy\",\n",
    "               optimizer=\"adam\", \n",
    "               metrics=[\"categorical_accuracy\"])"
   ]
  },
  {
   "cell_type": "code",
   "execution_count": 0,
   "metadata": {
    "colab": {
     "base_uri": "https://localhost:8080/",
     "height": 1601
    },
    "colab_type": "code",
    "collapsed": false,
    "id": "OUQIyuo5_yAl",
    "outputId": "336d4e75-2d8d-4721-eb30-d2f780ba1c5a"
   },
   "outputs": [
    {
     "name": "stdout",
     "output_type": "stream",
     "text": [
      "WARNING:tensorflow:From /usr/local/lib/python3.6/dist-packages/tensorflow/python/ops/math_ops.py:3066: to_int32 (from tensorflow.python.ops.math_ops) is deprecated and will be removed in a future version.\n",
      "Instructions for updating:\n",
      "Use tf.cast instead.\n"
     ]
    },
    {
     "name": "stderr",
     "output_type": "stream",
     "text": [
      "/usr/local/lib/python3.6/dist-packages/keras/utils/data_utils.py:651: DeprecationWarning: `wait_time` is not used anymore.\n",
      "  DeprecationWarning)\n"
     ]
    },
    {
     "name": "stdout",
     "output_type": "stream",
     "text": [
      "Epoch 1/50\n",
      "278/278 [==============================] - 2189s 8s/step - loss: 14.5634 - categorical_accuracy: 0.0913 - val_loss: 14.3720 - val_categorical_accuracy: 0.1083\n",
      "Epoch 2/50\n",
      "278/278 [==============================] - 93s 333ms/step - loss: 14.0225 - categorical_accuracy: 0.1259 - val_loss: 15.0259 - val_categorical_accuracy: 0.0651\n",
      "Epoch 3/50\n",
      "278/278 [==============================] - 91s 328ms/step - loss: 13.2141 - categorical_accuracy: 0.1722 - val_loss: 13.8205 - val_categorical_accuracy: 0.1396\n",
      "Epoch 4/50\n",
      "278/278 [==============================] - 90s 325ms/step - loss: 12.0578 - categorical_accuracy: 0.2415 - val_loss: 12.0741 - val_categorical_accuracy: 0.2479\n",
      "Epoch 5/50\n",
      "278/278 [==============================] - 90s 325ms/step - loss: 11.4082 - categorical_accuracy: 0.2815 - val_loss: 12.4261 - val_categorical_accuracy: 0.2229\n",
      "Epoch 6/50\n",
      "278/278 [==============================] - 89s 322ms/step - loss: 10.8210 - categorical_accuracy: 0.3167 - val_loss: 11.9990 - val_categorical_accuracy: 0.2484\n",
      "Epoch 7/50\n",
      "278/278 [==============================] - 90s 323ms/step - loss: 10.5104 - categorical_accuracy: 0.3343 - val_loss: 11.6167 - val_categorical_accuracy: 0.2667\n",
      "Epoch 8/50\n",
      "278/278 [==============================] - 89s 321ms/step - loss: 9.6466 - categorical_accuracy: 0.3868 - val_loss: 11.2308 - val_categorical_accuracy: 0.2974\n",
      "Epoch 9/50\n",
      "278/278 [==============================] - 89s 322ms/step - loss: 9.7244 - categorical_accuracy: 0.3843 - val_loss: 11.0505 - val_categorical_accuracy: 0.3052\n",
      "Epoch 10/50\n",
      "278/278 [==============================] - 89s 321ms/step - loss: 9.4427 - categorical_accuracy: 0.4018 - val_loss: 10.8663 - val_categorical_accuracy: 0.3182\n",
      "Epoch 11/50\n",
      "278/278 [==============================] - 91s 326ms/step - loss: 8.7871 - categorical_accuracy: 0.4397 - val_loss: 11.5034 - val_categorical_accuracy: 0.2818\n",
      "Epoch 12/50\n",
      "278/278 [==============================] - 91s 326ms/step - loss: 8.9020 - categorical_accuracy: 0.4335 - val_loss: 9.7202 - val_categorical_accuracy: 0.3797\n",
      "Epoch 13/50\n",
      "278/278 [==============================] - 90s 325ms/step - loss: 7.5551 - categorical_accuracy: 0.5032 - val_loss: 9.7263 - val_categorical_accuracy: 0.3802\n",
      "Epoch 14/50\n",
      "278/278 [==============================] - 90s 323ms/step - loss: 7.1459 - categorical_accuracy: 0.5343 - val_loss: 9.6044 - val_categorical_accuracy: 0.3828\n",
      "Epoch 15/50\n",
      "278/278 [==============================] - 91s 328ms/step - loss: 6.9446 - categorical_accuracy: 0.5463 - val_loss: 9.0655 - val_categorical_accuracy: 0.4182\n",
      "Epoch 16/50\n",
      "278/278 [==============================] - 91s 326ms/step - loss: 6.5823 - categorical_accuracy: 0.5653 - val_loss: 8.0150 - val_categorical_accuracy: 0.4760\n",
      "Epoch 17/50\n",
      "278/278 [==============================] - 91s 327ms/step - loss: 6.0813 - categorical_accuracy: 0.5890 - val_loss: 8.4335 - val_categorical_accuracy: 0.4516\n",
      "Epoch 18/50\n",
      "278/278 [==============================] - 90s 325ms/step - loss: 5.5262 - categorical_accuracy: 0.6196 - val_loss: 8.6373 - val_categorical_accuracy: 0.4365\n",
      "Epoch 19/50\n",
      "278/278 [==============================] - 90s 325ms/step - loss: 5.4362 - categorical_accuracy: 0.6208 - val_loss: 7.2249 - val_categorical_accuracy: 0.5177\n",
      "Epoch 20/50\n",
      "278/278 [==============================] - 90s 324ms/step - loss: 4.1879 - categorical_accuracy: 0.6700 - val_loss: 6.3427 - val_categorical_accuracy: 0.5151\n",
      "Epoch 21/50\n",
      "278/278 [==============================] - 90s 323ms/step - loss: 2.1946 - categorical_accuracy: 0.6676 - val_loss: 3.8780 - val_categorical_accuracy: 0.5026\n",
      "Epoch 22/50\n",
      "278/278 [==============================] - 90s 324ms/step - loss: 1.4150 - categorical_accuracy: 0.6754 - val_loss: 2.8992 - val_categorical_accuracy: 0.5172\n",
      "Epoch 23/50\n",
      "278/278 [==============================] - 90s 323ms/step - loss: 1.2223 - categorical_accuracy: 0.6937 - val_loss: 2.8229 - val_categorical_accuracy: 0.5083\n",
      "Epoch 24/50\n",
      "278/278 [==============================] - 89s 321ms/step - loss: 1.0006 - categorical_accuracy: 0.7143 - val_loss: 2.9260 - val_categorical_accuracy: 0.4594\n",
      "Epoch 25/50\n",
      "278/278 [==============================] - 90s 323ms/step - loss: 0.9298 - categorical_accuracy: 0.7443 - val_loss: 2.2455 - val_categorical_accuracy: 0.5453\n",
      "Epoch 26/50\n",
      "278/278 [==============================] - 90s 323ms/step - loss: 0.8747 - categorical_accuracy: 0.7454 - val_loss: 2.0874 - val_categorical_accuracy: 0.5510\n",
      "Epoch 27/50\n",
      "278/278 [==============================] - 90s 322ms/step - loss: 0.7162 - categorical_accuracy: 0.7715 - val_loss: 2.4220 - val_categorical_accuracy: 0.5401\n",
      "Epoch 28/50\n",
      "278/278 [==============================] - 89s 321ms/step - loss: 0.7205 - categorical_accuracy: 0.7763 - val_loss: 1.6727 - val_categorical_accuracy: 0.5865\n",
      "Epoch 29/50\n",
      "278/278 [==============================] - 89s 321ms/step - loss: 0.6220 - categorical_accuracy: 0.8046 - val_loss: 1.7575 - val_categorical_accuracy: 0.5849\n",
      "Epoch 30/50\n",
      "278/278 [==============================] - 88s 318ms/step - loss: 0.6390 - categorical_accuracy: 0.7916 - val_loss: 1.4590 - val_categorical_accuracy: 0.5755\n",
      "Epoch 31/50\n",
      "278/278 [==============================] - 88s 316ms/step - loss: 0.5652 - categorical_accuracy: 0.8012 - val_loss: 1.7086 - val_categorical_accuracy: 0.5714\n",
      "Epoch 32/50\n",
      "278/278 [==============================] - 88s 317ms/step - loss: 0.5497 - categorical_accuracy: 0.8132 - val_loss: 2.0127 - val_categorical_accuracy: 0.5339\n",
      "Epoch 33/50\n",
      "278/278 [==============================] - 88s 315ms/step - loss: 0.5199 - categorical_accuracy: 0.8236 - val_loss: 2.1154 - val_categorical_accuracy: 0.5297\n",
      "Epoch 34/50\n",
      "278/278 [==============================] - 88s 315ms/step - loss: 0.4597 - categorical_accuracy: 0.8401 - val_loss: 1.9887 - val_categorical_accuracy: 0.5094\n",
      "Epoch 35/50\n",
      "278/278 [==============================] - 88s 315ms/step - loss: 0.5265 - categorical_accuracy: 0.8355 - val_loss: 1.9268 - val_categorical_accuracy: 0.5094\n"
     ]
    },
    {
     "ename": "ValueError",
     "evalue": "ignored",
     "output_type": "error",
     "traceback": [
      "\u001b[0;31m---------------------------------------------------------------------------\u001b[0m",
      "\u001b[0;31mValueError\u001b[0m                                Traceback (most recent call last)",
      "\u001b[0;32m<ipython-input-14-1e5b0e2c5eb9>\u001b[0m in \u001b[0;36m<module>\u001b[0;34m()\u001b[0m\n\u001b[0;32m----> 1\u001b[0;31m \u001b[0mtransfer_accuracy\u001b[0m \u001b[0;34m=\u001b[0m \u001b[0mevaluate_model\u001b[0m\u001b[0;34m(\u001b[0m\u001b[0mmodel_transfer\u001b[0m\u001b[0;34m,\u001b[0m \u001b[0mmodel_transfer\u001b[0m\u001b[0;34m)\u001b[0m\u001b[0;34m\u001b[0m\u001b[0;34m\u001b[0m\u001b[0m\n\u001b[0m",
      "\u001b[0;32m<ipython-input-9-7772564f5fd3>\u001b[0m in \u001b[0;36mevaluate_model\u001b[0;34m(model, filename)\u001b[0m\n\u001b[1;32m     13\u001b[0m                                   take_best_model])\n\u001b[1;32m     14\u001b[0m \u001b[0;34m\u001b[0m\u001b[0m\n\u001b[0;32m---> 15\u001b[0;31m     \u001b[0mjoblib\u001b[0m\u001b[0;34m.\u001b[0m\u001b[0mdump\u001b[0m\u001b[0;34m(\u001b[0m\u001b[0mhistory\u001b[0m\u001b[0;34m,\u001b[0m \u001b[0mfilename\u001b[0m\u001b[0;34m)\u001b[0m\u001b[0;34m\u001b[0m\u001b[0;34m\u001b[0m\u001b[0m\n\u001b[0m\u001b[1;32m     16\u001b[0m \u001b[0;34m\u001b[0m\u001b[0m\n\u001b[1;32m     17\u001b[0m     \u001b[0mmodel\u001b[0m\u001b[0;34m.\u001b[0m\u001b[0mload_weights\u001b[0m\u001b[0;34m(\u001b[0m\u001b[0mstr\u001b[0m\u001b[0;34m(\u001b[0m\u001b[0mfilename\u001b[0m\u001b[0;34m)\u001b[0m\u001b[0;34m+\u001b[0m\u001b[0;34m\".h5py\"\u001b[0m\u001b[0;34m)\u001b[0m\u001b[0;34m\u001b[0m\u001b[0;34m\u001b[0m\u001b[0m\n",
      "\u001b[0;32m/usr/local/lib/python3.6/dist-packages/joblib/numpy_pickle.py\u001b[0m in \u001b[0;36mdump\u001b[0;34m(value, filename, compress, protocol, cache_size)\u001b[0m\n\u001b[1;32m    461\u001b[0m             \u001b[0;34m'Second argument should be a filename or a file-like object, '\u001b[0m\u001b[0;34m\u001b[0m\u001b[0;34m\u001b[0m\u001b[0m\n\u001b[1;32m    462\u001b[0m             \u001b[0;34m'%s (type %s) was given.'\u001b[0m\u001b[0;34m\u001b[0m\u001b[0;34m\u001b[0m\u001b[0m\n\u001b[0;32m--> 463\u001b[0;31m             \u001b[0;34m%\u001b[0m \u001b[0;34m(\u001b[0m\u001b[0mfilename\u001b[0m\u001b[0;34m,\u001b[0m \u001b[0mtype\u001b[0m\u001b[0;34m(\u001b[0m\u001b[0mfilename\u001b[0m\u001b[0;34m)\u001b[0m\u001b[0;34m)\u001b[0m\u001b[0;34m\u001b[0m\u001b[0;34m\u001b[0m\u001b[0m\n\u001b[0m\u001b[1;32m    464\u001b[0m         )\n\u001b[1;32m    465\u001b[0m \u001b[0;34m\u001b[0m\u001b[0m\n",
      "\u001b[0;31mValueError\u001b[0m: Second argument should be a filename or a file-like object, <keras.engine.sequential.Sequential object at 0x7f0ddfd07390> (type <class 'keras.engine.sequential.Sequential'>) was given."
     ]
    }
   ],
   "source": [
    "# evaluating model on validation set\n",
    "transfer_accuracy = evaluate_model(model_transfer, model_transfer)"
   ]
  },
  {
   "cell_type": "code",
   "execution_count": 0,
   "metadata": {
    "colab": {
     "base_uri": "https://localhost:8080/",
     "height": 357
    },
    "colab_type": "code",
    "collapsed": false,
    "id": "su6mOe5PIK4L",
    "outputId": "4c2f18ee-e249-4939-c915-b5d1a2197c64"
   },
   "outputs": [
    {
     "name": "stderr",
     "output_type": "stream",
     "text": [
      "/usr/local/lib/python3.6/dist-packages/keras/utils/data_utils.py:651: DeprecationWarning: `wait_time` is not used anymore.\n",
      "  DeprecationWarning)\n"
     ]
    },
    {
     "name": "stdout",
     "output_type": "stream",
     "text": [
      "Epoch 1/50\n",
      "278/278 [==============================] - 94s 339ms/step - loss: 0.4882 - categorical_accuracy: 0.8315 - val_loss: 2.0769 - val_categorical_accuracy: 0.4740\n",
      "Epoch 2/50\n",
      "278/278 [==============================] - 92s 329ms/step - loss: 0.4410 - categorical_accuracy: 0.8458 - val_loss: 3.5660 - val_categorical_accuracy: 0.4635\n",
      "Epoch 3/50\n",
      "278/278 [==============================] - 92s 331ms/step - loss: 0.4479 - categorical_accuracy: 0.8438 - val_loss: 1.7988 - val_categorical_accuracy: 0.5036\n",
      "Epoch 4/50\n",
      "278/278 [==============================] - 92s 330ms/step - loss: 0.4490 - categorical_accuracy: 0.8401 - val_loss: 2.1356 - val_categorical_accuracy: 0.5094\n",
      "Epoch 5/50\n",
      "278/278 [==============================] - 91s 327ms/step - loss: 0.4354 - categorical_accuracy: 0.8546 - val_loss: 2.6764 - val_categorical_accuracy: 0.4828\n",
      "Epoch 6/50\n",
      "278/278 [==============================] - 91s 329ms/step - loss: 0.4026 - categorical_accuracy: 0.8548 - val_loss: 2.2438 - val_categorical_accuracy: 0.4969\n",
      "Epoch 7/50\n",
      "278/278 [==============================] - 91s 329ms/step - loss: 0.4152 - categorical_accuracy: 0.8588 - val_loss: 1.9450 - val_categorical_accuracy: 0.4760\n",
      "Epoch 8/50\n",
      "278/278 [==============================] - 91s 329ms/step - loss: 0.4122 - categorical_accuracy: 0.8517 - val_loss: 2.1661 - val_categorical_accuracy: 0.4964\n"
     ]
    },
    {
     "name": "stderr",
     "output_type": "stream",
     "text": [
      "/usr/local/lib/python3.6/dist-packages/keras/utils/data_utils.py:651: DeprecationWarning: `wait_time` is not used anymore.\n",
      "  DeprecationWarning)\n"
     ]
    }
   ],
   "source": [
    "# evaluating model on validation set\n",
    "transfer_accuracy = evaluate_model(model_transfer, \"transfer_model\")"
   ]
  },
  {
   "cell_type": "markdown",
   "metadata": {
    "colab_type": "text",
    "id": "hlDD02pEMK08"
   },
   "source": [
    "Pre-trained network performed rather poorly as it reached almost 50% accuracy on validation set and was heavily overfitted with the difference between accuracy on train and validation sets reaching 35 percentage points. It's due to the fact that my dataset and the dataset the networked was trained on are not very similar. Pre-trained networks implemented in Keras like Xception were trained on ImageNet dataset with 1000 classes of images. There were no classes for different-shaped bricks. Moreover, the classes in ImageNet are more abstract so the network was trained to look for higher-order features than merely shapes. To properly use transfer learning in this case I would have to train some top convolutional layers on my dataset or just use some bottom convolutional layers which recognise more basic features like shapes. "
   ]
  }
 ],
 "metadata": {
  "accelerator": "GPU",
  "colab": {
   "collapsed_sections": [],
   "name": "lego_challenge.ipynb",
   "provenance": [],
   "version": "0.3.2"
  },
  "kernelspec": {
   "display_name": "Python 3",
   "language": "python",
   "name": "python3"
  },
  "language_info": {
   "codemirror_mode": {
    "name": "ipython",
    "version": 3
   },
   "file_extension": ".py",
   "mimetype": "text/x-python",
   "name": "python",
   "nbconvert_exporter": "python",
   "pygments_lexer": "ipython3",
   "version": "3.6.8"
  }
 },
 "nbformat": 4,
 "nbformat_minor": 0
}
